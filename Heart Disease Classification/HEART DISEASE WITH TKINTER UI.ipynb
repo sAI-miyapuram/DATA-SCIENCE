{
 "cells": [
  {
   "cell_type": "markdown",
   "id": "814d32da",
   "metadata": {
    "papermill": {
     "duration": 0.052686,
     "end_time": "2021-10-29T15:16:10.181165",
     "exception": false,
     "start_time": "2021-10-29T15:16:10.128479",
     "status": "completed"
    },
    "tags": []
   },
   "source": [
    "# Heart Disease Detection"
   ]
  },
  {
   "cell_type": "markdown",
   "id": "03009e16",
   "metadata": {
    "papermill": {
     "duration": 0.050723,
     "end_time": "2021-10-29T15:16:10.285269",
     "exception": false,
     "start_time": "2021-10-29T15:16:10.234546",
     "status": "completed"
    },
    "tags": []
   },
   "source": [
    "Performing some Exploratory Data Analysis to get a better understanding of the data. Then we will create different classification methods to detect patients with a high risk of having heart disease. In the end, we will compare the performance of the models that we made to choose the best one.\n",
    "\n",
    "The Classification methods used are - **Decision Tree (CART, CHAID)**, **Logistic Regression**, **LSVM**, **Ada Boost**, **Gradient Boost** and **XG Boost**."
   ]
  },
  {
   "cell_type": "code",
   "execution_count": 88,
   "id": "274c4bbe",
   "metadata": {
    "execution": {
     "iopub.execute_input": "2021-10-29T15:16:10.394055Z",
     "iopub.status.busy": "2021-10-29T15:16:10.392064Z",
     "iopub.status.idle": "2021-10-29T15:16:10.410884Z",
     "shell.execute_reply": "2021-10-29T15:16:10.411507Z",
     "shell.execute_reply.started": "2021-10-29T15:15:15.942023Z"
    },
    "papermill": {
     "duration": 0.075349,
     "end_time": "2021-10-29T15:16:10.411868",
     "exception": false,
     "start_time": "2021-10-29T15:16:10.336519",
     "status": "completed"
    },
    "tags": []
   },
   "outputs": [],
   "source": [
    "import matplotlib.pyplot as plt\n",
    "import pandas as pd\n",
    "import pylab as pl\n",
    "import numpy as np\n",
    "#formatting dataframe to 2 decimal precision\n",
    "pd.options.display.float_format = \"{:,.2f}\".format"
   ]
  },
  {
   "cell_type": "markdown",
   "id": "5c942f66",
   "metadata": {
    "papermill": {
     "duration": 0.051827,
     "end_time": "2021-10-29T15:16:10.627286",
     "exception": false,
     "start_time": "2021-10-29T15:16:10.575459",
     "status": "completed"
    },
    "tags": []
   },
   "source": [
    "## Exploratory Data Analysis"
   ]
  },
  {
   "cell_type": "code",
   "execution_count": 89,
   "id": "cdd6aaaa",
   "metadata": {
    "execution": {
     "iopub.execute_input": "2021-10-29T15:16:10.791016Z",
     "iopub.status.busy": "2021-10-29T15:16:10.790363Z",
     "iopub.status.idle": "2021-10-29T15:16:10.829036Z",
     "shell.execute_reply": "2021-10-29T15:16:10.829536Z",
     "shell.execute_reply.started": "2021-10-29T15:15:15.949147Z"
    },
    "papermill": {
     "duration": 0.092682,
     "end_time": "2021-10-29T15:16:10.829704",
     "exception": false,
     "start_time": "2021-10-29T15:16:10.737022",
     "status": "completed"
    },
    "scrolled": true,
    "tags": []
   },
   "outputs": [
    {
     "data": {
      "text/html": [
       "<div>\n",
       "<style scoped>\n",
       "    .dataframe tbody tr th:only-of-type {\n",
       "        vertical-align: middle;\n",
       "    }\n",
       "\n",
       "    .dataframe tbody tr th {\n",
       "        vertical-align: top;\n",
       "    }\n",
       "\n",
       "    .dataframe thead th {\n",
       "        text-align: right;\n",
       "    }\n",
       "</style>\n",
       "<table border=\"1\" class=\"dataframe\">\n",
       "  <thead>\n",
       "    <tr style=\"text-align: right;\">\n",
       "      <th></th>\n",
       "      <th>age</th>\n",
       "      <th>sex</th>\n",
       "      <th>cp</th>\n",
       "      <th>trestbps</th>\n",
       "      <th>chol</th>\n",
       "      <th>fbs</th>\n",
       "      <th>restecg</th>\n",
       "      <th>thalach</th>\n",
       "      <th>exang</th>\n",
       "      <th>oldpeak</th>\n",
       "      <th>slope</th>\n",
       "      <th>ca</th>\n",
       "      <th>thal</th>\n",
       "      <th>target</th>\n",
       "    </tr>\n",
       "  </thead>\n",
       "  <tbody>\n",
       "    <tr>\n",
       "      <th>0</th>\n",
       "      <td>63</td>\n",
       "      <td>1</td>\n",
       "      <td>3</td>\n",
       "      <td>145</td>\n",
       "      <td>233</td>\n",
       "      <td>1</td>\n",
       "      <td>0</td>\n",
       "      <td>150</td>\n",
       "      <td>0</td>\n",
       "      <td>2.30</td>\n",
       "      <td>0</td>\n",
       "      <td>0</td>\n",
       "      <td>1</td>\n",
       "      <td>1</td>\n",
       "    </tr>\n",
       "    <tr>\n",
       "      <th>1</th>\n",
       "      <td>37</td>\n",
       "      <td>1</td>\n",
       "      <td>2</td>\n",
       "      <td>130</td>\n",
       "      <td>250</td>\n",
       "      <td>0</td>\n",
       "      <td>1</td>\n",
       "      <td>187</td>\n",
       "      <td>0</td>\n",
       "      <td>3.50</td>\n",
       "      <td>0</td>\n",
       "      <td>0</td>\n",
       "      <td>2</td>\n",
       "      <td>1</td>\n",
       "    </tr>\n",
       "    <tr>\n",
       "      <th>2</th>\n",
       "      <td>41</td>\n",
       "      <td>0</td>\n",
       "      <td>1</td>\n",
       "      <td>130</td>\n",
       "      <td>204</td>\n",
       "      <td>0</td>\n",
       "      <td>0</td>\n",
       "      <td>172</td>\n",
       "      <td>0</td>\n",
       "      <td>1.40</td>\n",
       "      <td>2</td>\n",
       "      <td>0</td>\n",
       "      <td>2</td>\n",
       "      <td>1</td>\n",
       "    </tr>\n",
       "    <tr>\n",
       "      <th>3</th>\n",
       "      <td>56</td>\n",
       "      <td>1</td>\n",
       "      <td>1</td>\n",
       "      <td>120</td>\n",
       "      <td>236</td>\n",
       "      <td>0</td>\n",
       "      <td>1</td>\n",
       "      <td>178</td>\n",
       "      <td>0</td>\n",
       "      <td>0.80</td>\n",
       "      <td>2</td>\n",
       "      <td>0</td>\n",
       "      <td>2</td>\n",
       "      <td>1</td>\n",
       "    </tr>\n",
       "    <tr>\n",
       "      <th>4</th>\n",
       "      <td>57</td>\n",
       "      <td>0</td>\n",
       "      <td>0</td>\n",
       "      <td>120</td>\n",
       "      <td>354</td>\n",
       "      <td>0</td>\n",
       "      <td>1</td>\n",
       "      <td>163</td>\n",
       "      <td>1</td>\n",
       "      <td>0.60</td>\n",
       "      <td>2</td>\n",
       "      <td>0</td>\n",
       "      <td>2</td>\n",
       "      <td>1</td>\n",
       "    </tr>\n",
       "    <tr>\n",
       "      <th>5</th>\n",
       "      <td>57</td>\n",
       "      <td>1</td>\n",
       "      <td>0</td>\n",
       "      <td>140</td>\n",
       "      <td>192</td>\n",
       "      <td>0</td>\n",
       "      <td>1</td>\n",
       "      <td>148</td>\n",
       "      <td>0</td>\n",
       "      <td>0.40</td>\n",
       "      <td>1</td>\n",
       "      <td>0</td>\n",
       "      <td>1</td>\n",
       "      <td>1</td>\n",
       "    </tr>\n",
       "    <tr>\n",
       "      <th>6</th>\n",
       "      <td>56</td>\n",
       "      <td>0</td>\n",
       "      <td>1</td>\n",
       "      <td>140</td>\n",
       "      <td>294</td>\n",
       "      <td>0</td>\n",
       "      <td>0</td>\n",
       "      <td>153</td>\n",
       "      <td>0</td>\n",
       "      <td>1.30</td>\n",
       "      <td>1</td>\n",
       "      <td>0</td>\n",
       "      <td>2</td>\n",
       "      <td>1</td>\n",
       "    </tr>\n",
       "    <tr>\n",
       "      <th>7</th>\n",
       "      <td>44</td>\n",
       "      <td>1</td>\n",
       "      <td>1</td>\n",
       "      <td>120</td>\n",
       "      <td>263</td>\n",
       "      <td>0</td>\n",
       "      <td>1</td>\n",
       "      <td>173</td>\n",
       "      <td>0</td>\n",
       "      <td>0.00</td>\n",
       "      <td>2</td>\n",
       "      <td>0</td>\n",
       "      <td>3</td>\n",
       "      <td>1</td>\n",
       "    </tr>\n",
       "    <tr>\n",
       "      <th>8</th>\n",
       "      <td>52</td>\n",
       "      <td>1</td>\n",
       "      <td>2</td>\n",
       "      <td>172</td>\n",
       "      <td>199</td>\n",
       "      <td>1</td>\n",
       "      <td>1</td>\n",
       "      <td>162</td>\n",
       "      <td>0</td>\n",
       "      <td>0.50</td>\n",
       "      <td>2</td>\n",
       "      <td>0</td>\n",
       "      <td>3</td>\n",
       "      <td>1</td>\n",
       "    </tr>\n",
       "  </tbody>\n",
       "</table>\n",
       "</div>"
      ],
      "text/plain": [
       "   age  sex  cp  trestbps  chol  fbs  restecg  thalach  exang  oldpeak  slope  \\\n",
       "0   63    1   3       145   233    1        0      150      0     2.30      0   \n",
       "1   37    1   2       130   250    0        1      187      0     3.50      0   \n",
       "2   41    0   1       130   204    0        0      172      0     1.40      2   \n",
       "3   56    1   1       120   236    0        1      178      0     0.80      2   \n",
       "4   57    0   0       120   354    0        1      163      1     0.60      2   \n",
       "5   57    1   0       140   192    0        1      148      0     0.40      1   \n",
       "6   56    0   1       140   294    0        0      153      0     1.30      1   \n",
       "7   44    1   1       120   263    0        1      173      0     0.00      2   \n",
       "8   52    1   2       172   199    1        1      162      0     0.50      2   \n",
       "\n",
       "   ca  thal  target  \n",
       "0   0     1       1  \n",
       "1   0     2       1  \n",
       "2   0     2       1  \n",
       "3   0     2       1  \n",
       "4   0     2       1  \n",
       "5   0     1       1  \n",
       "6   0     2       1  \n",
       "7   0     3       1  \n",
       "8   0     3       1  "
      ]
     },
     "execution_count": 89,
     "metadata": {},
     "output_type": "execute_result"
    }
   ],
   "source": [
    "df = pd.read_csv(\"heart.csv\")\n",
    "df.head(9)"
   ]
  },
  {
   "cell_type": "code",
   "execution_count": 90,
   "id": "b74a47a5",
   "metadata": {
    "execution": {
     "iopub.execute_input": "2021-10-29T15:16:10.944839Z",
     "iopub.status.busy": "2021-10-29T15:16:10.939124Z",
     "iopub.status.idle": "2021-10-29T15:16:11.001183Z",
     "shell.execute_reply": "2021-10-29T15:16:11.000214Z",
     "shell.execute_reply.started": "2021-10-29T15:15:15.981927Z"
    },
    "papermill": {
     "duration": 0.119367,
     "end_time": "2021-10-29T15:16:11.001405",
     "exception": false,
     "start_time": "2021-10-29T15:16:10.882038",
     "status": "completed"
    },
    "tags": []
   },
   "outputs": [
    {
     "name": "stdout",
     "output_type": "stream",
     "text": [
      "(303, 14)\n"
     ]
    },
    {
     "data": {
      "text/html": [
       "<div>\n",
       "<style scoped>\n",
       "    .dataframe tbody tr th:only-of-type {\n",
       "        vertical-align: middle;\n",
       "    }\n",
       "\n",
       "    .dataframe tbody tr th {\n",
       "        vertical-align: top;\n",
       "    }\n",
       "\n",
       "    .dataframe thead th {\n",
       "        text-align: right;\n",
       "    }\n",
       "</style>\n",
       "<table border=\"1\" class=\"dataframe\">\n",
       "  <thead>\n",
       "    <tr style=\"text-align: right;\">\n",
       "      <th></th>\n",
       "      <th>age</th>\n",
       "      <th>sex</th>\n",
       "      <th>cp</th>\n",
       "      <th>trestbps</th>\n",
       "      <th>chol</th>\n",
       "      <th>fbs</th>\n",
       "      <th>restecg</th>\n",
       "      <th>thalach</th>\n",
       "      <th>exang</th>\n",
       "      <th>oldpeak</th>\n",
       "      <th>slope</th>\n",
       "      <th>ca</th>\n",
       "      <th>thal</th>\n",
       "      <th>target</th>\n",
       "    </tr>\n",
       "  </thead>\n",
       "  <tbody>\n",
       "    <tr>\n",
       "      <th>count</th>\n",
       "      <td>303.00</td>\n",
       "      <td>303.00</td>\n",
       "      <td>303.00</td>\n",
       "      <td>303.00</td>\n",
       "      <td>303.00</td>\n",
       "      <td>303.00</td>\n",
       "      <td>303.00</td>\n",
       "      <td>303.00</td>\n",
       "      <td>303.00</td>\n",
       "      <td>303.00</td>\n",
       "      <td>303.00</td>\n",
       "      <td>303.00</td>\n",
       "      <td>303.00</td>\n",
       "      <td>303.00</td>\n",
       "    </tr>\n",
       "    <tr>\n",
       "      <th>mean</th>\n",
       "      <td>54.37</td>\n",
       "      <td>0.68</td>\n",
       "      <td>0.97</td>\n",
       "      <td>131.62</td>\n",
       "      <td>246.26</td>\n",
       "      <td>0.15</td>\n",
       "      <td>0.53</td>\n",
       "      <td>149.65</td>\n",
       "      <td>0.33</td>\n",
       "      <td>1.04</td>\n",
       "      <td>1.40</td>\n",
       "      <td>0.73</td>\n",
       "      <td>2.31</td>\n",
       "      <td>0.54</td>\n",
       "    </tr>\n",
       "    <tr>\n",
       "      <th>std</th>\n",
       "      <td>9.08</td>\n",
       "      <td>0.47</td>\n",
       "      <td>1.03</td>\n",
       "      <td>17.54</td>\n",
       "      <td>51.83</td>\n",
       "      <td>0.36</td>\n",
       "      <td>0.53</td>\n",
       "      <td>22.91</td>\n",
       "      <td>0.47</td>\n",
       "      <td>1.16</td>\n",
       "      <td>0.62</td>\n",
       "      <td>1.02</td>\n",
       "      <td>0.61</td>\n",
       "      <td>0.50</td>\n",
       "    </tr>\n",
       "    <tr>\n",
       "      <th>min</th>\n",
       "      <td>29.00</td>\n",
       "      <td>0.00</td>\n",
       "      <td>0.00</td>\n",
       "      <td>94.00</td>\n",
       "      <td>126.00</td>\n",
       "      <td>0.00</td>\n",
       "      <td>0.00</td>\n",
       "      <td>71.00</td>\n",
       "      <td>0.00</td>\n",
       "      <td>0.00</td>\n",
       "      <td>0.00</td>\n",
       "      <td>0.00</td>\n",
       "      <td>0.00</td>\n",
       "      <td>0.00</td>\n",
       "    </tr>\n",
       "    <tr>\n",
       "      <th>25%</th>\n",
       "      <td>47.50</td>\n",
       "      <td>0.00</td>\n",
       "      <td>0.00</td>\n",
       "      <td>120.00</td>\n",
       "      <td>211.00</td>\n",
       "      <td>0.00</td>\n",
       "      <td>0.00</td>\n",
       "      <td>133.50</td>\n",
       "      <td>0.00</td>\n",
       "      <td>0.00</td>\n",
       "      <td>1.00</td>\n",
       "      <td>0.00</td>\n",
       "      <td>2.00</td>\n",
       "      <td>0.00</td>\n",
       "    </tr>\n",
       "    <tr>\n",
       "      <th>50%</th>\n",
       "      <td>55.00</td>\n",
       "      <td>1.00</td>\n",
       "      <td>1.00</td>\n",
       "      <td>130.00</td>\n",
       "      <td>240.00</td>\n",
       "      <td>0.00</td>\n",
       "      <td>1.00</td>\n",
       "      <td>153.00</td>\n",
       "      <td>0.00</td>\n",
       "      <td>0.80</td>\n",
       "      <td>1.00</td>\n",
       "      <td>0.00</td>\n",
       "      <td>2.00</td>\n",
       "      <td>1.00</td>\n",
       "    </tr>\n",
       "    <tr>\n",
       "      <th>75%</th>\n",
       "      <td>61.00</td>\n",
       "      <td>1.00</td>\n",
       "      <td>2.00</td>\n",
       "      <td>140.00</td>\n",
       "      <td>274.50</td>\n",
       "      <td>0.00</td>\n",
       "      <td>1.00</td>\n",
       "      <td>166.00</td>\n",
       "      <td>1.00</td>\n",
       "      <td>1.60</td>\n",
       "      <td>2.00</td>\n",
       "      <td>1.00</td>\n",
       "      <td>3.00</td>\n",
       "      <td>1.00</td>\n",
       "    </tr>\n",
       "    <tr>\n",
       "      <th>max</th>\n",
       "      <td>77.00</td>\n",
       "      <td>1.00</td>\n",
       "      <td>3.00</td>\n",
       "      <td>200.00</td>\n",
       "      <td>564.00</td>\n",
       "      <td>1.00</td>\n",
       "      <td>2.00</td>\n",
       "      <td>202.00</td>\n",
       "      <td>1.00</td>\n",
       "      <td>6.20</td>\n",
       "      <td>2.00</td>\n",
       "      <td>4.00</td>\n",
       "      <td>3.00</td>\n",
       "      <td>1.00</td>\n",
       "    </tr>\n",
       "  </tbody>\n",
       "</table>\n",
       "</div>"
      ],
      "text/plain": [
       "         age    sex     cp  trestbps   chol    fbs  restecg  thalach  exang  \\\n",
       "count 303.00 303.00 303.00    303.00 303.00 303.00   303.00   303.00 303.00   \n",
       "mean   54.37   0.68   0.97    131.62 246.26   0.15     0.53   149.65   0.33   \n",
       "std     9.08   0.47   1.03     17.54  51.83   0.36     0.53    22.91   0.47   \n",
       "min    29.00   0.00   0.00     94.00 126.00   0.00     0.00    71.00   0.00   \n",
       "25%    47.50   0.00   0.00    120.00 211.00   0.00     0.00   133.50   0.00   \n",
       "50%    55.00   1.00   1.00    130.00 240.00   0.00     1.00   153.00   0.00   \n",
       "75%    61.00   1.00   2.00    140.00 274.50   0.00     1.00   166.00   1.00   \n",
       "max    77.00   1.00   3.00    200.00 564.00   1.00     2.00   202.00   1.00   \n",
       "\n",
       "       oldpeak  slope     ca   thal  target  \n",
       "count   303.00 303.00 303.00 303.00  303.00  \n",
       "mean      1.04   1.40   0.73   2.31    0.54  \n",
       "std       1.16   0.62   1.02   0.61    0.50  \n",
       "min       0.00   0.00   0.00   0.00    0.00  \n",
       "25%       0.00   1.00   0.00   2.00    0.00  \n",
       "50%       0.80   1.00   0.00   2.00    1.00  \n",
       "75%       1.60   2.00   1.00   3.00    1.00  \n",
       "max       6.20   2.00   4.00   3.00    1.00  "
      ]
     },
     "execution_count": 90,
     "metadata": {},
     "output_type": "execute_result"
    }
   ],
   "source": [
    "print(df.shape)\n",
    "df.describe()"
   ]
  },
  {
   "cell_type": "markdown",
   "id": "53eaa17c",
   "metadata": {
    "papermill": {
     "duration": 0.05702,
     "end_time": "2021-10-29T15:16:11.124975",
     "exception": false,
     "start_time": "2021-10-29T15:16:11.067955",
     "status": "completed"
    },
    "tags": []
   },
   "source": [
    "Checking the data types:"
   ]
  },
  {
   "cell_type": "code",
   "execution_count": 91,
   "id": "a4020cd6",
   "metadata": {
    "execution": {
     "iopub.execute_input": "2021-10-29T15:16:11.248840Z",
     "iopub.status.busy": "2021-10-29T15:16:11.247849Z",
     "iopub.status.idle": "2021-10-29T15:16:11.254999Z",
     "shell.execute_reply": "2021-10-29T15:16:11.255590Z",
     "shell.execute_reply.started": "2021-10-29T15:15:16.027051Z"
    },
    "papermill": {
     "duration": 0.07062,
     "end_time": "2021-10-29T15:16:11.255758",
     "exception": false,
     "start_time": "2021-10-29T15:16:11.185138",
     "status": "completed"
    },
    "tags": []
   },
   "outputs": [
    {
     "data": {
      "text/plain": [
       "age           int64\n",
       "sex           int64\n",
       "cp            int64\n",
       "trestbps      int64\n",
       "chol          int64\n",
       "fbs           int64\n",
       "restecg       int64\n",
       "thalach       int64\n",
       "exang         int64\n",
       "oldpeak     float64\n",
       "slope         int64\n",
       "ca            int64\n",
       "thal          int64\n",
       "target        int64\n",
       "dtype: object"
      ]
     },
     "execution_count": 91,
     "metadata": {},
     "output_type": "execute_result"
    }
   ],
   "source": [
    "df.dtypes"
   ]
  },
  {
   "cell_type": "markdown",
   "id": "d6312518",
   "metadata": {
    "papermill": {
     "duration": 0.060287,
     "end_time": "2021-10-29T15:16:11.376224",
     "exception": false,
     "start_time": "2021-10-29T15:16:11.315937",
     "status": "completed"
    },
    "tags": []
   },
   "source": [
    "Now let's check if there is any missing value:"
   ]
  },
  {
   "cell_type": "code",
   "execution_count": 92,
   "id": "2b3859ca",
   "metadata": {
    "execution": {
     "iopub.execute_input": "2021-10-29T15:16:11.487045Z",
     "iopub.status.busy": "2021-10-29T15:16:11.486066Z",
     "iopub.status.idle": "2021-10-29T15:16:11.494290Z",
     "shell.execute_reply": "2021-10-29T15:16:11.494756Z",
     "shell.execute_reply.started": "2021-10-29T15:15:16.035833Z"
    },
    "papermill": {
     "duration": 0.065441,
     "end_time": "2021-10-29T15:16:11.494946",
     "exception": false,
     "start_time": "2021-10-29T15:16:11.429505",
     "status": "completed"
    },
    "tags": []
   },
   "outputs": [
    {
     "data": {
      "text/plain": [
       "age         0\n",
       "sex         0\n",
       "cp          0\n",
       "trestbps    0\n",
       "chol        0\n",
       "fbs         0\n",
       "restecg     0\n",
       "thalach     0\n",
       "exang       0\n",
       "oldpeak     0\n",
       "slope       0\n",
       "ca          0\n",
       "thal        0\n",
       "target      0\n",
       "dtype: int64"
      ]
     },
     "execution_count": 92,
     "metadata": {},
     "output_type": "execute_result"
    }
   ],
   "source": [
    "df.isna().sum() "
   ]
  },
  {
   "cell_type": "markdown",
   "id": "223e603e",
   "metadata": {},
   "source": [
    "#### Correlation Matrix -\n",
    "\n",
    "It gives pair wise relationship between variables."
   ]
  },
  {
   "cell_type": "code",
   "execution_count": 93,
   "id": "511abad0",
   "metadata": {
    "execution": {
     "iopub.execute_input": "2021-10-29T15:16:11.867129Z",
     "iopub.status.busy": "2021-10-29T15:16:11.866243Z",
     "iopub.status.idle": "2021-10-29T15:16:14.035900Z",
     "shell.execute_reply": "2021-10-29T15:16:14.036536Z",
     "shell.execute_reply.started": "2021-10-29T15:15:16.052892Z"
    },
    "papermill": {
     "duration": 2.229588,
     "end_time": "2021-10-29T15:16:14.036720",
     "exception": false,
     "start_time": "2021-10-29T15:16:11.807132",
     "status": "completed"
    },
    "tags": []
   },
   "outputs": [
    {
     "data": {
      "text/html": [
       "<style  type=\"text/css\" >\n",
       "#T_18fc6_row0_col0,#T_18fc6_row1_col1,#T_18fc6_row2_col2,#T_18fc6_row3_col3,#T_18fc6_row4_col4,#T_18fc6_row5_col5,#T_18fc6_row6_col6,#T_18fc6_row7_col7,#T_18fc6_row8_col8,#T_18fc6_row9_col9,#T_18fc6_row10_col10,#T_18fc6_row11_col11,#T_18fc6_row12_col12,#T_18fc6_row13_col13{\n",
       "            background-color:  #023858;\n",
       "            color:  #f1f1f1;\n",
       "        }#T_18fc6_row0_col1{\n",
       "            background-color:  #e8e4f0;\n",
       "            color:  #000000;\n",
       "        }#T_18fc6_row0_col2,#T_18fc6_row4_col3,#T_18fc6_row5_col12{\n",
       "            background-color:  #d4d4e8;\n",
       "            color:  #000000;\n",
       "        }#T_18fc6_row0_col3,#T_18fc6_row5_col9,#T_18fc6_row10_col2,#T_18fc6_row11_col12{\n",
       "            background-color:  #a8bedc;\n",
       "            color:  #000000;\n",
       "        }#T_18fc6_row0_col4{\n",
       "            background-color:  #b1c2de;\n",
       "            color:  #000000;\n",
       "        }#T_18fc6_row0_col5{\n",
       "            background-color:  #dedcec;\n",
       "            color:  #000000;\n",
       "        }#T_18fc6_row0_col6,#T_18fc6_row2_col8{\n",
       "            background-color:  #fbf3f9;\n",
       "            color:  #000000;\n",
       "        }#T_18fc6_row0_col7,#T_18fc6_row1_col4,#T_18fc6_row4_col6,#T_18fc6_row6_col5,#T_18fc6_row7_col0,#T_18fc6_row8_col2,#T_18fc6_row8_col13,#T_18fc6_row9_col10,#T_18fc6_row10_col9,#T_18fc6_row13_col1,#T_18fc6_row13_col3,#T_18fc6_row13_col8,#T_18fc6_row13_col11,#T_18fc6_row13_col12{\n",
       "            background-color:  #fff7fb;\n",
       "            color:  #000000;\n",
       "        }#T_18fc6_row0_col8,#T_18fc6_row5_col0{\n",
       "            background-color:  #a7bddb;\n",
       "            color:  #000000;\n",
       "        }#T_18fc6_row0_col9,#T_18fc6_row2_col7,#T_18fc6_row12_col9{\n",
       "            background-color:  #75a9cf;\n",
       "            color:  #000000;\n",
       "        }#T_18fc6_row0_col10{\n",
       "            background-color:  #cdd0e5;\n",
       "            color:  #000000;\n",
       "        }#T_18fc6_row0_col11{\n",
       "            background-color:  #7dacd1;\n",
       "            color:  #000000;\n",
       "        }#T_18fc6_row0_col12{\n",
       "            background-color:  #bdc8e1;\n",
       "            color:  #000000;\n",
       "        }#T_18fc6_row0_col13,#T_18fc6_row2_col11,#T_18fc6_row7_col9{\n",
       "            background-color:  #e7e3f0;\n",
       "            color:  #000000;\n",
       "        }#T_18fc6_row1_col0,#T_18fc6_row9_col4,#T_18fc6_row10_col6{\n",
       "            background-color:  #d9d8ea;\n",
       "            color:  #000000;\n",
       "        }#T_18fc6_row1_col2,#T_18fc6_row6_col12,#T_18fc6_row12_col4{\n",
       "            background-color:  #d1d2e6;\n",
       "            color:  #000000;\n",
       "        }#T_18fc6_row1_col3{\n",
       "            background-color:  #f4edf6;\n",
       "            color:  #000000;\n",
       "        }#T_18fc6_row1_col5,#T_18fc6_row12_col6{\n",
       "            background-color:  #ede8f3;\n",
       "            color:  #000000;\n",
       "        }#T_18fc6_row1_col6,#T_18fc6_row9_col6{\n",
       "            background-color:  #f3edf5;\n",
       "            color:  #000000;\n",
       "        }#T_18fc6_row1_col7,#T_18fc6_row3_col7,#T_18fc6_row13_col6{\n",
       "            background-color:  #d0d1e6;\n",
       "            color:  #000000;\n",
       "        }#T_18fc6_row1_col8{\n",
       "            background-color:  #9ab8d8;\n",
       "            color:  #000000;\n",
       "        }#T_18fc6_row1_col9{\n",
       "            background-color:  #91b5d6;\n",
       "            color:  #000000;\n",
       "        }#T_18fc6_row1_col10{\n",
       "            background-color:  #b0c2de;\n",
       "            color:  #000000;\n",
       "        }#T_18fc6_row1_col11,#T_18fc6_row4_col10,#T_18fc6_row8_col11{\n",
       "            background-color:  #a9bfdc;\n",
       "            color:  #000000;\n",
       "        }#T_18fc6_row1_col12,#T_18fc6_row9_col12{\n",
       "            background-color:  #97b7d7;\n",
       "            color:  #000000;\n",
       "        }#T_18fc6_row1_col13{\n",
       "            background-color:  #efe9f3;\n",
       "            color:  #000000;\n",
       "        }#T_18fc6_row2_col0{\n",
       "            background-color:  #d3d4e7;\n",
       "            color:  #000000;\n",
       "        }#T_18fc6_row2_col1,#T_18fc6_row12_col3{\n",
       "            background-color:  #e0dded;\n",
       "            color:  #000000;\n",
       "        }#T_18fc6_row2_col3,#T_18fc6_row2_col6,#T_18fc6_row7_col6{\n",
       "            background-color:  #e2dfee;\n",
       "            color:  #000000;\n",
       "        }#T_18fc6_row2_col4,#T_18fc6_row8_col5{\n",
       "            background-color:  #f0eaf4;\n",
       "            color:  #000000;\n",
       "        }#T_18fc6_row2_col5,#T_18fc6_row10_col0,#T_18fc6_row12_col2{\n",
       "            background-color:  #e3e0ee;\n",
       "            color:  #000000;\n",
       "        }#T_18fc6_row2_col9{\n",
       "            background-color:  #c9cee4;\n",
       "            color:  #000000;\n",
       "        }#T_18fc6_row2_col10,#T_18fc6_row9_col11{\n",
       "            background-color:  #8bb2d4;\n",
       "            color:  #000000;\n",
       "        }#T_18fc6_row2_col12{\n",
       "            background-color:  #eae6f1;\n",
       "            color:  #000000;\n",
       "        }#T_18fc6_row2_col13{\n",
       "            background-color:  #3f93c2;\n",
       "            color:  #000000;\n",
       "        }#T_18fc6_row3_col0{\n",
       "            background-color:  #79abd0;\n",
       "            color:  #000000;\n",
       "        }#T_18fc6_row3_col1,#T_18fc6_row6_col1,#T_18fc6_row9_col2{\n",
       "            background-color:  #e1dfed;\n",
       "            color:  #000000;\n",
       "        }#T_18fc6_row3_col2,#T_18fc6_row6_col7{\n",
       "            background-color:  #b9c6e0;\n",
       "            color:  #000000;\n",
       "        }#T_18fc6_row3_col4{\n",
       "            background-color:  #cacee5;\n",
       "            color:  #000000;\n",
       "        }#T_18fc6_row3_col5{\n",
       "            background-color:  #d2d3e7;\n",
       "            color:  #000000;\n",
       "        }#T_18fc6_row3_col6,#T_18fc6_row11_col13{\n",
       "            background-color:  #faf3f9;\n",
       "            color:  #000000;\n",
       "        }#T_18fc6_row3_col8,#T_18fc6_row4_col8,#T_18fc6_row5_col2{\n",
       "            background-color:  #afc1dd;\n",
       "            color:  #000000;\n",
       "        }#T_18fc6_row3_col9{\n",
       "            background-color:  #78abd0;\n",
       "            color:  #000000;\n",
       "        }#T_18fc6_row3_col10{\n",
       "            background-color:  #c2cbe2;\n",
       "            color:  #000000;\n",
       "        }#T_18fc6_row3_col11,#T_18fc6_row8_col0{\n",
       "            background-color:  #adc1dd;\n",
       "            color:  #000000;\n",
       "        }#T_18fc6_row3_col12{\n",
       "            background-color:  #bfc9e1;\n",
       "            color:  #000000;\n",
       "        }#T_18fc6_row3_col13,#T_18fc6_row6_col0,#T_18fc6_row8_col10{\n",
       "            background-color:  #dbdaeb;\n",
       "            color:  #000000;\n",
       "        }#T_18fc6_row4_col0{\n",
       "            background-color:  #8cb3d5;\n",
       "            color:  #000000;\n",
       "        }#T_18fc6_row4_col1,#T_18fc6_row12_col13{\n",
       "            background-color:  #f5eff6;\n",
       "            color:  #000000;\n",
       "        }#T_18fc6_row4_col2,#T_18fc6_row6_col11{\n",
       "            background-color:  #d5d5e8;\n",
       "            color:  #000000;\n",
       "        }#T_18fc6_row4_col5,#T_18fc6_row13_col9{\n",
       "            background-color:  #f1ebf5;\n",
       "            color:  #000000;\n",
       "        }#T_18fc6_row4_col7,#T_18fc6_row5_col7{\n",
       "            background-color:  #c6cce3;\n",
       "            color:  #000000;\n",
       "        }#T_18fc6_row4_col9,#T_18fc6_row6_col13{\n",
       "            background-color:  #9cb9d9;\n",
       "            color:  #000000;\n",
       "        }#T_18fc6_row4_col11,#T_18fc6_row12_col0{\n",
       "            background-color:  #b4c4df;\n",
       "            color:  #000000;\n",
       "        }#T_18fc6_row4_col12,#T_18fc6_row5_col10,#T_18fc6_row6_col9,#T_18fc6_row8_col1{\n",
       "            background-color:  #b5c4df;\n",
       "            color:  #000000;\n",
       "        }#T_18fc6_row4_col13{\n",
       "            background-color:  #d2d2e7;\n",
       "            color:  #000000;\n",
       "        }#T_18fc6_row5_col1,#T_18fc6_row6_col8{\n",
       "            background-color:  #ced0e6;\n",
       "            color:  #000000;\n",
       "        }#T_18fc6_row5_col3,#T_18fc6_row5_col13{\n",
       "            background-color:  #c5cce3;\n",
       "            color:  #000000;\n",
       "        }#T_18fc6_row5_col4,#T_18fc6_row10_col12{\n",
       "            background-color:  #e0deed;\n",
       "            color:  #000000;\n",
       "        }#T_18fc6_row5_col6,#T_18fc6_row13_col5{\n",
       "            background-color:  #f7f0f7;\n",
       "            color:  #000000;\n",
       "        }#T_18fc6_row5_col8{\n",
       "            background-color:  #b8c6e0;\n",
       "            color:  #000000;\n",
       "        }#T_18fc6_row5_col11{\n",
       "            background-color:  #a4bcda;\n",
       "            color:  #000000;\n",
       "        }#T_18fc6_row6_col2,#T_18fc6_row11_col10{\n",
       "            background-color:  #bbc7e0;\n",
       "            color:  #000000;\n",
       "        }#T_18fc6_row6_col3{\n",
       "            background-color:  #fbf4f9;\n",
       "            color:  #000000;\n",
       "        }#T_18fc6_row6_col4,#T_18fc6_row7_col8{\n",
       "            background-color:  #f9f2f8;\n",
       "            color:  #000000;\n",
       "        }#T_18fc6_row6_col10{\n",
       "            background-color:  #93b5d6;\n",
       "            color:  #000000;\n",
       "        }#T_18fc6_row7_col1,#T_18fc6_row7_col12,#T_18fc6_row8_col3{\n",
       "            background-color:  #dfddec;\n",
       "            color:  #000000;\n",
       "        }#T_18fc6_row7_col2{\n",
       "            background-color:  #76aad0;\n",
       "            color:  #000000;\n",
       "        }#T_18fc6_row7_col3,#T_18fc6_row9_col5{\n",
       "            background-color:  #f2ecf5;\n",
       "            color:  #000000;\n",
       "        }#T_18fc6_row7_col4{\n",
       "            background-color:  #e5e1ef;\n",
       "            color:  #000000;\n",
       "        }#T_18fc6_row7_col5,#T_18fc6_row8_col6,#T_18fc6_row11_col6{\n",
       "            background-color:  #f5eef6;\n",
       "            color:  #000000;\n",
       "        }#T_18fc6_row7_col10{\n",
       "            background-color:  #3d93c2;\n",
       "            color:  #000000;\n",
       "        }#T_18fc6_row7_col11{\n",
       "            background-color:  #ece7f2;\n",
       "            color:  #000000;\n",
       "        }#T_18fc6_row7_col13,#T_18fc6_row13_col2{\n",
       "            background-color:  #4496c3;\n",
       "            color:  #000000;\n",
       "        }#T_18fc6_row8_col4{\n",
       "            background-color:  #d7d6e9;\n",
       "            color:  #000000;\n",
       "        }#T_18fc6_row8_col7{\n",
       "            background-color:  #fdf5fa;\n",
       "            color:  #000000;\n",
       "        }#T_18fc6_row8_col9{\n",
       "            background-color:  #5c9fc9;\n",
       "            color:  #000000;\n",
       "        }#T_18fc6_row8_col12{\n",
       "            background-color:  #99b8d8;\n",
       "            color:  #000000;\n",
       "        }#T_18fc6_row9_col0{\n",
       "            background-color:  #8eb3d5;\n",
       "            color:  #000000;\n",
       "        }#T_18fc6_row9_col1,#T_18fc6_row9_col3{\n",
       "            background-color:  #c1cae2;\n",
       "            color:  #000000;\n",
       "        }#T_18fc6_row9_col7{\n",
       "            background-color:  #faf2f8;\n",
       "            color:  #000000;\n",
       "        }#T_18fc6_row9_col8,#T_18fc6_row11_col9{\n",
       "            background-color:  #71a8ce;\n",
       "            color:  #000000;\n",
       "        }#T_18fc6_row9_col13{\n",
       "            background-color:  #fef6fb;\n",
       "            color:  #000000;\n",
       "        }#T_18fc6_row10_col1{\n",
       "            background-color:  #dcdaeb;\n",
       "            color:  #000000;\n",
       "        }#T_18fc6_row10_col3,#T_18fc6_row10_col5{\n",
       "            background-color:  #fcf4fa;\n",
       "            color:  #000000;\n",
       "        }#T_18fc6_row10_col4{\n",
       "            background-color:  #e4e1ef;\n",
       "            color:  #000000;\n",
       "        }#T_18fc6_row10_col7{\n",
       "            background-color:  #569dc8;\n",
       "            color:  #000000;\n",
       "        }#T_18fc6_row10_col8,#T_18fc6_row13_col0{\n",
       "            background-color:  #ede7f2;\n",
       "            color:  #000000;\n",
       "        }#T_18fc6_row10_col11,#T_18fc6_row11_col4{\n",
       "            background-color:  #d6d6e9;\n",
       "            color:  #000000;\n",
       "        }#T_18fc6_row10_col13{\n",
       "            background-color:  #5ea0ca;\n",
       "            color:  #000000;\n",
       "        }#T_18fc6_row11_col0{\n",
       "            background-color:  #7bacd1;\n",
       "            color:  #000000;\n",
       "        }#T_18fc6_row11_col1{\n",
       "            background-color:  #bcc7e1;\n",
       "            color:  #000000;\n",
       "        }#T_18fc6_row11_col2{\n",
       "            background-color:  #e6e2ef;\n",
       "            color:  #000000;\n",
       "        }#T_18fc6_row11_col3,#T_18fc6_row12_col7{\n",
       "            background-color:  #d8d7e9;\n",
       "            color:  #000000;\n",
       "        }#T_18fc6_row11_col5{\n",
       "            background-color:  #dad9ea;\n",
       "            color:  #000000;\n",
       "        }#T_18fc6_row11_col7{\n",
       "            background-color:  #ebe6f2;\n",
       "            color:  #000000;\n",
       "        }#T_18fc6_row11_col8,#T_18fc6_row12_col1{\n",
       "            background-color:  #a2bcda;\n",
       "            color:  #000000;\n",
       "        }#T_18fc6_row12_col5{\n",
       "            background-color:  #f8f1f8;\n",
       "            color:  #000000;\n",
       "        }#T_18fc6_row12_col8{\n",
       "            background-color:  #89b1d4;\n",
       "            color:  #000000;\n",
       "        }#T_18fc6_row12_col10{\n",
       "            background-color:  #c0c9e2;\n",
       "            color:  #000000;\n",
       "        }#T_18fc6_row12_col11{\n",
       "            background-color:  #a1bbda;\n",
       "            color:  #000000;\n",
       "        }#T_18fc6_row13_col4{\n",
       "            background-color:  #f1ebf4;\n",
       "            color:  #000000;\n",
       "        }#T_18fc6_row13_col7{\n",
       "            background-color:  #4897c4;\n",
       "            color:  #000000;\n",
       "        }#T_18fc6_row13_col10{\n",
       "            background-color:  #4a98c5;\n",
       "            color:  #000000;\n",
       "        }</style><table id=\"T_18fc6_\" ><thead>    <tr>        <th class=\"blank level0\" ></th>        <th class=\"col_heading level0 col0\" >age</th>        <th class=\"col_heading level0 col1\" >sex</th>        <th class=\"col_heading level0 col2\" >cp</th>        <th class=\"col_heading level0 col3\" >trestbps</th>        <th class=\"col_heading level0 col4\" >chol</th>        <th class=\"col_heading level0 col5\" >fbs</th>        <th class=\"col_heading level0 col6\" >restecg</th>        <th class=\"col_heading level0 col7\" >thalach</th>        <th class=\"col_heading level0 col8\" >exang</th>        <th class=\"col_heading level0 col9\" >oldpeak</th>        <th class=\"col_heading level0 col10\" >slope</th>        <th class=\"col_heading level0 col11\" >ca</th>        <th class=\"col_heading level0 col12\" >thal</th>        <th class=\"col_heading level0 col13\" >target</th>    </tr></thead><tbody>\n",
       "                <tr>\n",
       "                        <th id=\"T_18fc6_level0_row0\" class=\"row_heading level0 row0\" >age</th>\n",
       "                        <td id=\"T_18fc6_row0_col0\" class=\"data row0 col0\" >1.000000</td>\n",
       "                        <td id=\"T_18fc6_row0_col1\" class=\"data row0 col1\" >-0.098447</td>\n",
       "                        <td id=\"T_18fc6_row0_col2\" class=\"data row0 col2\" >-0.068653</td>\n",
       "                        <td id=\"T_18fc6_row0_col3\" class=\"data row0 col3\" >0.279351</td>\n",
       "                        <td id=\"T_18fc6_row0_col4\" class=\"data row0 col4\" >0.213678</td>\n",
       "                        <td id=\"T_18fc6_row0_col5\" class=\"data row0 col5\" >0.121308</td>\n",
       "                        <td id=\"T_18fc6_row0_col6\" class=\"data row0 col6\" >-0.116211</td>\n",
       "                        <td id=\"T_18fc6_row0_col7\" class=\"data row0 col7\" >-0.398522</td>\n",
       "                        <td id=\"T_18fc6_row0_col8\" class=\"data row0 col8\" >0.096801</td>\n",
       "                        <td id=\"T_18fc6_row0_col9\" class=\"data row0 col9\" >0.210013</td>\n",
       "                        <td id=\"T_18fc6_row0_col10\" class=\"data row0 col10\" >-0.168814</td>\n",
       "                        <td id=\"T_18fc6_row0_col11\" class=\"data row0 col11\" >0.276326</td>\n",
       "                        <td id=\"T_18fc6_row0_col12\" class=\"data row0 col12\" >0.068001</td>\n",
       "                        <td id=\"T_18fc6_row0_col13\" class=\"data row0 col13\" >-0.225439</td>\n",
       "            </tr>\n",
       "            <tr>\n",
       "                        <th id=\"T_18fc6_level0_row1\" class=\"row_heading level0 row1\" >sex</th>\n",
       "                        <td id=\"T_18fc6_row1_col0\" class=\"data row1 col0\" >-0.098447</td>\n",
       "                        <td id=\"T_18fc6_row1_col1\" class=\"data row1 col1\" >1.000000</td>\n",
       "                        <td id=\"T_18fc6_row1_col2\" class=\"data row1 col2\" >-0.049353</td>\n",
       "                        <td id=\"T_18fc6_row1_col3\" class=\"data row1 col3\" >-0.056769</td>\n",
       "                        <td id=\"T_18fc6_row1_col4\" class=\"data row1 col4\" >-0.197912</td>\n",
       "                        <td id=\"T_18fc6_row1_col5\" class=\"data row1 col5\" >0.045032</td>\n",
       "                        <td id=\"T_18fc6_row1_col6\" class=\"data row1 col6\" >-0.058196</td>\n",
       "                        <td id=\"T_18fc6_row1_col7\" class=\"data row1 col7\" >-0.044020</td>\n",
       "                        <td id=\"T_18fc6_row1_col8\" class=\"data row1 col8\" >0.141664</td>\n",
       "                        <td id=\"T_18fc6_row1_col9\" class=\"data row1 col9\" >0.096093</td>\n",
       "                        <td id=\"T_18fc6_row1_col10\" class=\"data row1 col10\" >-0.030711</td>\n",
       "                        <td id=\"T_18fc6_row1_col11\" class=\"data row1 col11\" >0.118261</td>\n",
       "                        <td id=\"T_18fc6_row1_col12\" class=\"data row1 col12\" >0.210041</td>\n",
       "                        <td id=\"T_18fc6_row1_col13\" class=\"data row1 col13\" >-0.280937</td>\n",
       "            </tr>\n",
       "            <tr>\n",
       "                        <th id=\"T_18fc6_level0_row2\" class=\"row_heading level0 row2\" >cp</th>\n",
       "                        <td id=\"T_18fc6_row2_col0\" class=\"data row2 col0\" >-0.068653</td>\n",
       "                        <td id=\"T_18fc6_row2_col1\" class=\"data row2 col1\" >-0.049353</td>\n",
       "                        <td id=\"T_18fc6_row2_col2\" class=\"data row2 col2\" >1.000000</td>\n",
       "                        <td id=\"T_18fc6_row2_col3\" class=\"data row2 col3\" >0.047608</td>\n",
       "                        <td id=\"T_18fc6_row2_col4\" class=\"data row2 col4\" >-0.076904</td>\n",
       "                        <td id=\"T_18fc6_row2_col5\" class=\"data row2 col5\" >0.094444</td>\n",
       "                        <td id=\"T_18fc6_row2_col6\" class=\"data row2 col6\" >0.044421</td>\n",
       "                        <td id=\"T_18fc6_row2_col7\" class=\"data row2 col7\" >0.295762</td>\n",
       "                        <td id=\"T_18fc6_row2_col8\" class=\"data row2 col8\" >-0.394280</td>\n",
       "                        <td id=\"T_18fc6_row2_col9\" class=\"data row2 col9\" >-0.149230</td>\n",
       "                        <td id=\"T_18fc6_row2_col10\" class=\"data row2 col10\" >0.119717</td>\n",
       "                        <td id=\"T_18fc6_row2_col11\" class=\"data row2 col11\" >-0.181053</td>\n",
       "                        <td id=\"T_18fc6_row2_col12\" class=\"data row2 col12\" >-0.161736</td>\n",
       "                        <td id=\"T_18fc6_row2_col13\" class=\"data row2 col13\" >0.433798</td>\n",
       "            </tr>\n",
       "            <tr>\n",
       "                        <th id=\"T_18fc6_level0_row3\" class=\"row_heading level0 row3\" >trestbps</th>\n",
       "                        <td id=\"T_18fc6_row3_col0\" class=\"data row3 col0\" >0.279351</td>\n",
       "                        <td id=\"T_18fc6_row3_col1\" class=\"data row3 col1\" >-0.056769</td>\n",
       "                        <td id=\"T_18fc6_row3_col2\" class=\"data row3 col2\" >0.047608</td>\n",
       "                        <td id=\"T_18fc6_row3_col3\" class=\"data row3 col3\" >1.000000</td>\n",
       "                        <td id=\"T_18fc6_row3_col4\" class=\"data row3 col4\" >0.123174</td>\n",
       "                        <td id=\"T_18fc6_row3_col5\" class=\"data row3 col5\" >0.177531</td>\n",
       "                        <td id=\"T_18fc6_row3_col6\" class=\"data row3 col6\" >-0.114103</td>\n",
       "                        <td id=\"T_18fc6_row3_col7\" class=\"data row3 col7\" >-0.046698</td>\n",
       "                        <td id=\"T_18fc6_row3_col8\" class=\"data row3 col8\" >0.067616</td>\n",
       "                        <td id=\"T_18fc6_row3_col9\" class=\"data row3 col9\" >0.193216</td>\n",
       "                        <td id=\"T_18fc6_row3_col10\" class=\"data row3 col10\" >-0.121475</td>\n",
       "                        <td id=\"T_18fc6_row3_col11\" class=\"data row3 col11\" >0.101389</td>\n",
       "                        <td id=\"T_18fc6_row3_col12\" class=\"data row3 col12\" >0.062210</td>\n",
       "                        <td id=\"T_18fc6_row3_col13\" class=\"data row3 col13\" >-0.144931</td>\n",
       "            </tr>\n",
       "            <tr>\n",
       "                        <th id=\"T_18fc6_level0_row4\" class=\"row_heading level0 row4\" >chol</th>\n",
       "                        <td id=\"T_18fc6_row4_col0\" class=\"data row4 col0\" >0.213678</td>\n",
       "                        <td id=\"T_18fc6_row4_col1\" class=\"data row4 col1\" >-0.197912</td>\n",
       "                        <td id=\"T_18fc6_row4_col2\" class=\"data row4 col2\" >-0.076904</td>\n",
       "                        <td id=\"T_18fc6_row4_col3\" class=\"data row4 col3\" >0.123174</td>\n",
       "                        <td id=\"T_18fc6_row4_col4\" class=\"data row4 col4\" >1.000000</td>\n",
       "                        <td id=\"T_18fc6_row4_col5\" class=\"data row4 col5\" >0.013294</td>\n",
       "                        <td id=\"T_18fc6_row4_col6\" class=\"data row4 col6\" >-0.151040</td>\n",
       "                        <td id=\"T_18fc6_row4_col7\" class=\"data row4 col7\" >-0.009940</td>\n",
       "                        <td id=\"T_18fc6_row4_col8\" class=\"data row4 col8\" >0.067023</td>\n",
       "                        <td id=\"T_18fc6_row4_col9\" class=\"data row4 col9\" >0.053952</td>\n",
       "                        <td id=\"T_18fc6_row4_col10\" class=\"data row4 col10\" >-0.004038</td>\n",
       "                        <td id=\"T_18fc6_row4_col11\" class=\"data row4 col11\" >0.070511</td>\n",
       "                        <td id=\"T_18fc6_row4_col12\" class=\"data row4 col12\" >0.098803</td>\n",
       "                        <td id=\"T_18fc6_row4_col13\" class=\"data row4 col13\" >-0.085239</td>\n",
       "            </tr>\n",
       "            <tr>\n",
       "                        <th id=\"T_18fc6_level0_row5\" class=\"row_heading level0 row5\" >fbs</th>\n",
       "                        <td id=\"T_18fc6_row5_col0\" class=\"data row5 col0\" >0.121308</td>\n",
       "                        <td id=\"T_18fc6_row5_col1\" class=\"data row5 col1\" >0.045032</td>\n",
       "                        <td id=\"T_18fc6_row5_col2\" class=\"data row5 col2\" >0.094444</td>\n",
       "                        <td id=\"T_18fc6_row5_col3\" class=\"data row5 col3\" >0.177531</td>\n",
       "                        <td id=\"T_18fc6_row5_col4\" class=\"data row5 col4\" >0.013294</td>\n",
       "                        <td id=\"T_18fc6_row5_col5\" class=\"data row5 col5\" >1.000000</td>\n",
       "                        <td id=\"T_18fc6_row5_col6\" class=\"data row5 col6\" >-0.084189</td>\n",
       "                        <td id=\"T_18fc6_row5_col7\" class=\"data row5 col7\" >-0.008567</td>\n",
       "                        <td id=\"T_18fc6_row5_col8\" class=\"data row5 col8\" >0.025665</td>\n",
       "                        <td id=\"T_18fc6_row5_col9\" class=\"data row5 col9\" >0.005747</td>\n",
       "                        <td id=\"T_18fc6_row5_col10\" class=\"data row5 col10\" >-0.059894</td>\n",
       "                        <td id=\"T_18fc6_row5_col11\" class=\"data row5 col11\" >0.137979</td>\n",
       "                        <td id=\"T_18fc6_row5_col12\" class=\"data row5 col12\" >-0.032019</td>\n",
       "                        <td id=\"T_18fc6_row5_col13\" class=\"data row5 col13\" >-0.028046</td>\n",
       "            </tr>\n",
       "            <tr>\n",
       "                        <th id=\"T_18fc6_level0_row6\" class=\"row_heading level0 row6\" >restecg</th>\n",
       "                        <td id=\"T_18fc6_row6_col0\" class=\"data row6 col0\" >-0.116211</td>\n",
       "                        <td id=\"T_18fc6_row6_col1\" class=\"data row6 col1\" >-0.058196</td>\n",
       "                        <td id=\"T_18fc6_row6_col2\" class=\"data row6 col2\" >0.044421</td>\n",
       "                        <td id=\"T_18fc6_row6_col3\" class=\"data row6 col3\" >-0.114103</td>\n",
       "                        <td id=\"T_18fc6_row6_col4\" class=\"data row6 col4\" >-0.151040</td>\n",
       "                        <td id=\"T_18fc6_row6_col5\" class=\"data row6 col5\" >-0.084189</td>\n",
       "                        <td id=\"T_18fc6_row6_col6\" class=\"data row6 col6\" >1.000000</td>\n",
       "                        <td id=\"T_18fc6_row6_col7\" class=\"data row6 col7\" >0.044123</td>\n",
       "                        <td id=\"T_18fc6_row6_col8\" class=\"data row6 col8\" >-0.070733</td>\n",
       "                        <td id=\"T_18fc6_row6_col9\" class=\"data row6 col9\" >-0.058770</td>\n",
       "                        <td id=\"T_18fc6_row6_col10\" class=\"data row6 col10\" >0.093045</td>\n",
       "                        <td id=\"T_18fc6_row6_col11\" class=\"data row6 col11\" >-0.072042</td>\n",
       "                        <td id=\"T_18fc6_row6_col12\" class=\"data row6 col12\" >-0.011981</td>\n",
       "                        <td id=\"T_18fc6_row6_col13\" class=\"data row6 col13\" >0.137230</td>\n",
       "            </tr>\n",
       "            <tr>\n",
       "                        <th id=\"T_18fc6_level0_row7\" class=\"row_heading level0 row7\" >thalach</th>\n",
       "                        <td id=\"T_18fc6_row7_col0\" class=\"data row7 col0\" >-0.398522</td>\n",
       "                        <td id=\"T_18fc6_row7_col1\" class=\"data row7 col1\" >-0.044020</td>\n",
       "                        <td id=\"T_18fc6_row7_col2\" class=\"data row7 col2\" >0.295762</td>\n",
       "                        <td id=\"T_18fc6_row7_col3\" class=\"data row7 col3\" >-0.046698</td>\n",
       "                        <td id=\"T_18fc6_row7_col4\" class=\"data row7 col4\" >-0.009940</td>\n",
       "                        <td id=\"T_18fc6_row7_col5\" class=\"data row7 col5\" >-0.008567</td>\n",
       "                        <td id=\"T_18fc6_row7_col6\" class=\"data row7 col6\" >0.044123</td>\n",
       "                        <td id=\"T_18fc6_row7_col7\" class=\"data row7 col7\" >1.000000</td>\n",
       "                        <td id=\"T_18fc6_row7_col8\" class=\"data row7 col8\" >-0.378812</td>\n",
       "                        <td id=\"T_18fc6_row7_col9\" class=\"data row7 col9\" >-0.344187</td>\n",
       "                        <td id=\"T_18fc6_row7_col10\" class=\"data row7 col10\" >0.386784</td>\n",
       "                        <td id=\"T_18fc6_row7_col11\" class=\"data row7 col11\" >-0.213177</td>\n",
       "                        <td id=\"T_18fc6_row7_col12\" class=\"data row7 col12\" >-0.096439</td>\n",
       "                        <td id=\"T_18fc6_row7_col13\" class=\"data row7 col13\" >0.421741</td>\n",
       "            </tr>\n",
       "            <tr>\n",
       "                        <th id=\"T_18fc6_level0_row8\" class=\"row_heading level0 row8\" >exang</th>\n",
       "                        <td id=\"T_18fc6_row8_col0\" class=\"data row8 col0\" >0.096801</td>\n",
       "                        <td id=\"T_18fc6_row8_col1\" class=\"data row8 col1\" >0.141664</td>\n",
       "                        <td id=\"T_18fc6_row8_col2\" class=\"data row8 col2\" >-0.394280</td>\n",
       "                        <td id=\"T_18fc6_row8_col3\" class=\"data row8 col3\" >0.067616</td>\n",
       "                        <td id=\"T_18fc6_row8_col4\" class=\"data row8 col4\" >0.067023</td>\n",
       "                        <td id=\"T_18fc6_row8_col5\" class=\"data row8 col5\" >0.025665</td>\n",
       "                        <td id=\"T_18fc6_row8_col6\" class=\"data row8 col6\" >-0.070733</td>\n",
       "                        <td id=\"T_18fc6_row8_col7\" class=\"data row8 col7\" >-0.378812</td>\n",
       "                        <td id=\"T_18fc6_row8_col8\" class=\"data row8 col8\" >1.000000</td>\n",
       "                        <td id=\"T_18fc6_row8_col9\" class=\"data row8 col9\" >0.288223</td>\n",
       "                        <td id=\"T_18fc6_row8_col10\" class=\"data row8 col10\" >-0.257748</td>\n",
       "                        <td id=\"T_18fc6_row8_col11\" class=\"data row8 col11\" >0.115739</td>\n",
       "                        <td id=\"T_18fc6_row8_col12\" class=\"data row8 col12\" >0.206754</td>\n",
       "                        <td id=\"T_18fc6_row8_col13\" class=\"data row8 col13\" >-0.436757</td>\n",
       "            </tr>\n",
       "            <tr>\n",
       "                        <th id=\"T_18fc6_level0_row9\" class=\"row_heading level0 row9\" >oldpeak</th>\n",
       "                        <td id=\"T_18fc6_row9_col0\" class=\"data row9 col0\" >0.210013</td>\n",
       "                        <td id=\"T_18fc6_row9_col1\" class=\"data row9 col1\" >0.096093</td>\n",
       "                        <td id=\"T_18fc6_row9_col2\" class=\"data row9 col2\" >-0.149230</td>\n",
       "                        <td id=\"T_18fc6_row9_col3\" class=\"data row9 col3\" >0.193216</td>\n",
       "                        <td id=\"T_18fc6_row9_col4\" class=\"data row9 col4\" >0.053952</td>\n",
       "                        <td id=\"T_18fc6_row9_col5\" class=\"data row9 col5\" >0.005747</td>\n",
       "                        <td id=\"T_18fc6_row9_col6\" class=\"data row9 col6\" >-0.058770</td>\n",
       "                        <td id=\"T_18fc6_row9_col7\" class=\"data row9 col7\" >-0.344187</td>\n",
       "                        <td id=\"T_18fc6_row9_col8\" class=\"data row9 col8\" >0.288223</td>\n",
       "                        <td id=\"T_18fc6_row9_col9\" class=\"data row9 col9\" >1.000000</td>\n",
       "                        <td id=\"T_18fc6_row9_col10\" class=\"data row9 col10\" >-0.577537</td>\n",
       "                        <td id=\"T_18fc6_row9_col11\" class=\"data row9 col11\" >0.222682</td>\n",
       "                        <td id=\"T_18fc6_row9_col12\" class=\"data row9 col12\" >0.210244</td>\n",
       "                        <td id=\"T_18fc6_row9_col13\" class=\"data row9 col13\" >-0.430696</td>\n",
       "            </tr>\n",
       "            <tr>\n",
       "                        <th id=\"T_18fc6_level0_row10\" class=\"row_heading level0 row10\" >slope</th>\n",
       "                        <td id=\"T_18fc6_row10_col0\" class=\"data row10 col0\" >-0.168814</td>\n",
       "                        <td id=\"T_18fc6_row10_col1\" class=\"data row10 col1\" >-0.030711</td>\n",
       "                        <td id=\"T_18fc6_row10_col2\" class=\"data row10 col2\" >0.119717</td>\n",
       "                        <td id=\"T_18fc6_row10_col3\" class=\"data row10 col3\" >-0.121475</td>\n",
       "                        <td id=\"T_18fc6_row10_col4\" class=\"data row10 col4\" >-0.004038</td>\n",
       "                        <td id=\"T_18fc6_row10_col5\" class=\"data row10 col5\" >-0.059894</td>\n",
       "                        <td id=\"T_18fc6_row10_col6\" class=\"data row10 col6\" >0.093045</td>\n",
       "                        <td id=\"T_18fc6_row10_col7\" class=\"data row10 col7\" >0.386784</td>\n",
       "                        <td id=\"T_18fc6_row10_col8\" class=\"data row10 col8\" >-0.257748</td>\n",
       "                        <td id=\"T_18fc6_row10_col9\" class=\"data row10 col9\" >-0.577537</td>\n",
       "                        <td id=\"T_18fc6_row10_col10\" class=\"data row10 col10\" >1.000000</td>\n",
       "                        <td id=\"T_18fc6_row10_col11\" class=\"data row10 col11\" >-0.080155</td>\n",
       "                        <td id=\"T_18fc6_row10_col12\" class=\"data row10 col12\" >-0.104764</td>\n",
       "                        <td id=\"T_18fc6_row10_col13\" class=\"data row10 col13\" >0.345877</td>\n",
       "            </tr>\n",
       "            <tr>\n",
       "                        <th id=\"T_18fc6_level0_row11\" class=\"row_heading level0 row11\" >ca</th>\n",
       "                        <td id=\"T_18fc6_row11_col0\" class=\"data row11 col0\" >0.276326</td>\n",
       "                        <td id=\"T_18fc6_row11_col1\" class=\"data row11 col1\" >0.118261</td>\n",
       "                        <td id=\"T_18fc6_row11_col2\" class=\"data row11 col2\" >-0.181053</td>\n",
       "                        <td id=\"T_18fc6_row11_col3\" class=\"data row11 col3\" >0.101389</td>\n",
       "                        <td id=\"T_18fc6_row11_col4\" class=\"data row11 col4\" >0.070511</td>\n",
       "                        <td id=\"T_18fc6_row11_col5\" class=\"data row11 col5\" >0.137979</td>\n",
       "                        <td id=\"T_18fc6_row11_col6\" class=\"data row11 col6\" >-0.072042</td>\n",
       "                        <td id=\"T_18fc6_row11_col7\" class=\"data row11 col7\" >-0.213177</td>\n",
       "                        <td id=\"T_18fc6_row11_col8\" class=\"data row11 col8\" >0.115739</td>\n",
       "                        <td id=\"T_18fc6_row11_col9\" class=\"data row11 col9\" >0.222682</td>\n",
       "                        <td id=\"T_18fc6_row11_col10\" class=\"data row11 col10\" >-0.080155</td>\n",
       "                        <td id=\"T_18fc6_row11_col11\" class=\"data row11 col11\" >1.000000</td>\n",
       "                        <td id=\"T_18fc6_row11_col12\" class=\"data row11 col12\" >0.151832</td>\n",
       "                        <td id=\"T_18fc6_row11_col13\" class=\"data row11 col13\" >-0.391724</td>\n",
       "            </tr>\n",
       "            <tr>\n",
       "                        <th id=\"T_18fc6_level0_row12\" class=\"row_heading level0 row12\" >thal</th>\n",
       "                        <td id=\"T_18fc6_row12_col0\" class=\"data row12 col0\" >0.068001</td>\n",
       "                        <td id=\"T_18fc6_row12_col1\" class=\"data row12 col1\" >0.210041</td>\n",
       "                        <td id=\"T_18fc6_row12_col2\" class=\"data row12 col2\" >-0.161736</td>\n",
       "                        <td id=\"T_18fc6_row12_col3\" class=\"data row12 col3\" >0.062210</td>\n",
       "                        <td id=\"T_18fc6_row12_col4\" class=\"data row12 col4\" >0.098803</td>\n",
       "                        <td id=\"T_18fc6_row12_col5\" class=\"data row12 col5\" >-0.032019</td>\n",
       "                        <td id=\"T_18fc6_row12_col6\" class=\"data row12 col6\" >-0.011981</td>\n",
       "                        <td id=\"T_18fc6_row12_col7\" class=\"data row12 col7\" >-0.096439</td>\n",
       "                        <td id=\"T_18fc6_row12_col8\" class=\"data row12 col8\" >0.206754</td>\n",
       "                        <td id=\"T_18fc6_row12_col9\" class=\"data row12 col9\" >0.210244</td>\n",
       "                        <td id=\"T_18fc6_row12_col10\" class=\"data row12 col10\" >-0.104764</td>\n",
       "                        <td id=\"T_18fc6_row12_col11\" class=\"data row12 col11\" >0.151832</td>\n",
       "                        <td id=\"T_18fc6_row12_col12\" class=\"data row12 col12\" >1.000000</td>\n",
       "                        <td id=\"T_18fc6_row12_col13\" class=\"data row12 col13\" >-0.344029</td>\n",
       "            </tr>\n",
       "            <tr>\n",
       "                        <th id=\"T_18fc6_level0_row13\" class=\"row_heading level0 row13\" >target</th>\n",
       "                        <td id=\"T_18fc6_row13_col0\" class=\"data row13 col0\" >-0.225439</td>\n",
       "                        <td id=\"T_18fc6_row13_col1\" class=\"data row13 col1\" >-0.280937</td>\n",
       "                        <td id=\"T_18fc6_row13_col2\" class=\"data row13 col2\" >0.433798</td>\n",
       "                        <td id=\"T_18fc6_row13_col3\" class=\"data row13 col3\" >-0.144931</td>\n",
       "                        <td id=\"T_18fc6_row13_col4\" class=\"data row13 col4\" >-0.085239</td>\n",
       "                        <td id=\"T_18fc6_row13_col5\" class=\"data row13 col5\" >-0.028046</td>\n",
       "                        <td id=\"T_18fc6_row13_col6\" class=\"data row13 col6\" >0.137230</td>\n",
       "                        <td id=\"T_18fc6_row13_col7\" class=\"data row13 col7\" >0.421741</td>\n",
       "                        <td id=\"T_18fc6_row13_col8\" class=\"data row13 col8\" >-0.436757</td>\n",
       "                        <td id=\"T_18fc6_row13_col9\" class=\"data row13 col9\" >-0.430696</td>\n",
       "                        <td id=\"T_18fc6_row13_col10\" class=\"data row13 col10\" >0.345877</td>\n",
       "                        <td id=\"T_18fc6_row13_col11\" class=\"data row13 col11\" >-0.391724</td>\n",
       "                        <td id=\"T_18fc6_row13_col12\" class=\"data row13 col12\" >-0.344029</td>\n",
       "                        <td id=\"T_18fc6_row13_col13\" class=\"data row13 col13\" >1.000000</td>\n",
       "            </tr>\n",
       "    </tbody></table>"
      ],
      "text/plain": [
       "<pandas.io.formats.style.Styler at 0x1fbf1a84400>"
      ]
     },
     "execution_count": 93,
     "metadata": {},
     "output_type": "execute_result"
    }
   ],
   "source": [
    "import seaborn as sns\n",
    "sns.set()\n",
    "corr_metrics = df.corr()\n",
    "corr_metrics.style.background_gradient()"
   ]
  },
  {
   "cell_type": "markdown",
   "id": "7d792720",
   "metadata": {
    "papermill": {
     "duration": 0.057001,
     "end_time": "2021-10-29T15:16:14.151853",
     "exception": false,
     "start_time": "2021-10-29T15:16:14.094852",
     "status": "completed"
    },
    "tags": []
   },
   "source": [
    "It seems that \"cp\", \"thalach\", \"slope\" and \"restepg\" have more correlation with target value. but as we see in the matrix, \"thalach\" and \"slope\" have a considerable correlation with each other,  and we see the same thing for \"cp\", and \"thalach\" so probaely we should be careful about multicolinearity. "
   ]
  },
  {
   "cell_type": "code",
   "execution_count": 94,
   "id": "49b86918",
   "metadata": {
    "execution": {
     "iopub.execute_input": "2021-10-29T15:16:14.271619Z",
     "iopub.status.busy": "2021-10-29T15:16:14.270947Z",
     "iopub.status.idle": "2021-10-29T15:16:18.930859Z",
     "shell.execute_reply": "2021-10-29T15:16:18.931425Z",
     "shell.execute_reply.started": "2021-10-29T15:15:17.209919Z"
    },
    "papermill": {
     "duration": 4.721908,
     "end_time": "2021-10-29T15:16:18.931608",
     "exception": false,
     "start_time": "2021-10-29T15:16:14.209700",
     "status": "completed"
    },
    "tags": []
   },
   "outputs": [
    {
     "data": {
      "text/plain": [
       "<seaborn.axisgrid.PairGrid at 0x1fbf20b0e50>"
      ]
     },
     "execution_count": 94,
     "metadata": {},
     "output_type": "execute_result"
    },
    {
     "data": {
      "image/png": "[encoded data removed]",
      "text/plain": [
       "<Figure size 765.725x720 with 20 Axes>"
      ]
     },
     "metadata": {},
     "output_type": "display_data"
    }
   ],
   "source": [
    "df_subset = df[[\"target\",\"cp\", \"restecg\", \"thalach\", \"slope\"]]\n",
    "\n",
    "sns.set_theme(style=\"ticks\")\n",
    "sns.pairplot(df_subset, hue=\"target\")"
   ]
  },
  {
   "cell_type": "markdown",
   "id": "a102ef4a",
   "metadata": {
    "papermill": {
     "duration": 0.060392,
     "end_time": "2021-10-29T15:16:19.053708",
     "exception": false,
     "start_time": "2021-10-29T15:16:18.993316",
     "status": "completed"
    },
    "tags": []
   },
   "source": [
    "As we see in the pair plot, the four features have different distributions for each target class."
   ]
  },
  {
   "cell_type": "markdown",
   "id": "b8ee0a5a",
   "metadata": {
    "papermill": {
     "duration": 0.060492,
     "end_time": "2021-10-29T15:16:19.176790",
     "exception": false,
     "start_time": "2021-10-29T15:16:19.116298",
     "status": "completed"
    },
    "tags": []
   },
   "source": [
    "#### Distributions of each variable:"
   ]
  },
  {
   "cell_type": "code",
   "execution_count": 95,
   "id": "c12479c9",
   "metadata": {
    "execution": {
     "iopub.execute_input": "2021-10-29T15:16:19.306118Z",
     "iopub.status.busy": "2021-10-29T15:16:19.305412Z",
     "iopub.status.idle": "2021-10-29T15:16:22.019534Z",
     "shell.execute_reply": "2021-10-29T15:16:22.020060Z",
     "shell.execute_reply.started": "2021-10-29T15:15:22.035399Z"
    },
    "papermill": {
     "duration": 2.783295,
     "end_time": "2021-10-29T15:16:22.020244",
     "exception": false,
     "start_time": "2021-10-29T15:16:19.236949",
     "status": "completed"
    },
    "tags": []
   },
   "outputs": [
    {
     "data": {
      "text/plain": [
       "array([[<AxesSubplot:title={'center':'age'}>,\n",
       "        <AxesSubplot:title={'center':'sex'}>,\n",
       "        <AxesSubplot:title={'center':'cp'}>,\n",
       "        <AxesSubplot:title={'center':'trestbps'}>],\n",
       "       [<AxesSubplot:title={'center':'chol'}>,\n",
       "        <AxesSubplot:title={'center':'fbs'}>,\n",
       "        <AxesSubplot:title={'center':'restecg'}>,\n",
       "        <AxesSubplot:title={'center':'thalach'}>],\n",
       "       [<AxesSubplot:title={'center':'exang'}>,\n",
       "        <AxesSubplot:title={'center':'oldpeak'}>,\n",
       "        <AxesSubplot:title={'center':'slope'}>,\n",
       "        <AxesSubplot:title={'center':'ca'}>],\n",
       "       [<AxesSubplot:title={'center':'thal'}>,\n",
       "        <AxesSubplot:title={'center':'target'}>, <AxesSubplot:>,\n",
       "        <AxesSubplot:>]], dtype=object)"
      ]
     },
     "execution_count": 95,
     "metadata": {},
     "output_type": "execute_result"
    },
    {
     "data": {
      "image/png": "[encoded data removed]",
      "text/plain": [
       "<Figure size 1008x720 with 16 Axes>"
      ]
     },
     "metadata": {},
     "output_type": "display_data"
    }
   ],
   "source": [
    "df.hist(figsize = (14,10))"
   ]
  },
  {
   "cell_type": "markdown",
   "id": "852656e1",
   "metadata": {
    "papermill": {
     "duration": 0.075896,
     "end_time": "2021-10-29T15:16:26.856421",
     "exception": false,
     "start_time": "2021-10-29T15:16:26.780525",
     "status": "completed"
    },
    "tags": []
   },
   "source": [
    "## Decision Tree - CART"
   ]
  },
  {
   "cell_type": "code",
   "execution_count": 96,
   "id": "cab50eb1",
   "metadata": {
    "execution": {
     "iopub.execute_input": "2021-10-29T15:16:27.014010Z",
     "iopub.status.busy": "2021-10-29T15:16:27.013296Z",
     "iopub.status.idle": "2021-10-29T15:16:27.015128Z",
     "shell.execute_reply": "2021-10-29T15:16:27.015761Z",
     "shell.execute_reply.started": "2021-10-29T15:15:25.876576Z"
    },
    "papermill": {
     "duration": 0.083676,
     "end_time": "2021-10-29T15:16:27.015952",
     "exception": false,
     "start_time": "2021-10-29T15:16:26.932276",
     "status": "completed"
    },
    "tags": []
   },
   "outputs": [],
   "source": [
    "X=df.drop('target',axis=1).values    \n",
    "y=df['target'].values"
   ]
  },
  {
   "cell_type": "code",
   "execution_count": 97,
   "id": "3a0ed5a0",
   "metadata": {
    "execution": {
     "iopub.execute_input": "2021-10-29T15:16:27.173120Z",
     "iopub.status.busy": "2021-10-29T15:16:27.169888Z",
     "iopub.status.idle": "2021-10-29T15:16:27.178330Z",
     "shell.execute_reply": "2021-10-29T15:16:27.177767Z",
     "shell.execute_reply.started": "2021-10-29T15:15:25.883479Z"
    },
    "papermill": {
     "duration": 0.087192,
     "end_time": "2021-10-29T15:16:27.178470",
     "exception": false,
     "start_time": "2021-10-29T15:16:27.091278",
     "status": "completed"
    },
    "tags": []
   },
   "outputs": [
    {
     "name": "stdout",
     "output_type": "stream",
     "text": [
      "Train set: (242, 13) (242,)\n",
      "Test set: (61, 13) (61,)\n"
     ]
    }
   ],
   "source": [
    "from sklearn.model_selection import train_test_split\n",
    "X_train, X_test, y_train, y_test = train_test_split( X, y, test_size=0.2, random_state=4)\n",
    "print ('Train set:', X_train.shape,  y_train.shape)\n",
    "print ('Test set:', X_test.shape,  y_test.shape)"
   ]
  },
  {
   "cell_type": "code",
   "execution_count": 98,
   "id": "c0e7ce46",
   "metadata": {
    "execution": {
     "iopub.execute_input": "2021-10-29T15:16:27.336115Z",
     "iopub.status.busy": "2021-10-29T15:16:27.335385Z",
     "iopub.status.idle": "2021-10-29T15:16:27.517729Z",
     "shell.execute_reply": "2021-10-29T15:16:27.517158Z",
     "shell.execute_reply.started": "2021-10-29T15:15:25.899520Z"
    },
    "papermill": {
     "duration": 0.263289,
     "end_time": "2021-10-29T15:16:27.517882",
     "exception": false,
     "start_time": "2021-10-29T15:16:27.254593",
     "status": "completed"
    },
    "tags": []
   },
   "outputs": [],
   "source": [
    "from sklearn.tree import DecisionTreeClassifier"
   ]
  },
  {
   "cell_type": "code",
   "execution_count": 99,
   "id": "7e57bfc9",
   "metadata": {
    "execution": {
     "iopub.execute_input": "2021-10-29T15:16:27.675418Z",
     "iopub.status.busy": "2021-10-29T15:16:27.674737Z",
     "iopub.status.idle": "2021-10-29T15:16:27.677256Z",
     "shell.execute_reply": "2021-10-29T15:16:27.677799Z",
     "shell.execute_reply.started": "2021-10-29T15:15:25.907568Z"
    },
    "papermill": {
     "duration": 0.084548,
     "end_time": "2021-10-29T15:16:27.677982",
     "exception": false,
     "start_time": "2021-10-29T15:16:27.593434",
     "status": "completed"
    },
    "tags": []
   },
   "outputs": [
    {
     "data": {
      "text/plain": [
       "DecisionTreeClassifier(criterion='entropy', max_depth=4)"
      ]
     },
     "execution_count": 99,
     "metadata": {},
     "output_type": "execute_result"
    }
   ],
   "source": [
    "DTree = DecisionTreeClassifier(criterion=\"entropy\", max_depth = 4)\n",
    "DTree"
   ]
  },
  {
   "cell_type": "code",
   "execution_count": 100,
   "id": "ca54a9d6",
   "metadata": {
    "execution": {
     "iopub.execute_input": "2021-10-29T15:16:27.836061Z",
     "iopub.status.busy": "2021-10-29T15:16:27.835367Z",
     "iopub.status.idle": "2021-10-29T15:16:27.843770Z",
     "shell.execute_reply": "2021-10-29T15:16:27.843276Z",
     "shell.execute_reply.started": "2021-10-29T15:15:25.921699Z"
    },
    "papermill": {
     "duration": 0.088062,
     "end_time": "2021-10-29T15:16:27.843910",
     "exception": false,
     "start_time": "2021-10-29T15:16:27.755848",
     "status": "completed"
    },
    "tags": []
   },
   "outputs": [
    {
     "data": {
      "text/plain": [
       "DecisionTreeClassifier(criterion='entropy', max_depth=4)"
      ]
     },
     "execution_count": 100,
     "metadata": {},
     "output_type": "execute_result"
    }
   ],
   "source": [
    "DTree.fit(X_train,y_train)"
   ]
  },
  {
   "cell_type": "code",
   "execution_count": 101,
   "id": "fc323382",
   "metadata": {
    "execution": {
     "iopub.execute_input": "2021-10-29T15:16:28.003172Z",
     "iopub.status.busy": "2021-10-29T15:16:28.002102Z",
     "iopub.status.idle": "2021-10-29T15:16:28.004151Z",
     "shell.execute_reply": "2021-10-29T15:16:28.004675Z",
     "shell.execute_reply.started": "2021-10-29T15:15:25.936727Z"
    },
    "papermill": {
     "duration": 0.084296,
     "end_time": "2021-10-29T15:16:28.004852",
     "exception": false,
     "start_time": "2021-10-29T15:16:27.920556",
     "status": "completed"
    },
    "tags": []
   },
   "outputs": [
    {
     "data": {
      "text/plain": [
       "array([0, 0, 1, 1, 1, 0, 1, 1, 1, 1], dtype=int64)"
      ]
     },
     "execution_count": 101,
     "metadata": {},
     "output_type": "execute_result"
    }
   ],
   "source": [
    "Tree_yhat = DTree.predict(X_test)\n",
    "Tree_yhat[0:10]"
   ]
  },
  {
   "cell_type": "markdown",
   "id": "2fbf3951",
   "metadata": {
    "papermill": {
     "duration": 0.076991,
     "end_time": "2021-10-29T15:16:28.158323",
     "exception": false,
     "start_time": "2021-10-29T15:16:28.081332",
     "status": "completed"
    },
    "tags": []
   },
   "source": [
    "#### Decision Tree CART Evaluation -"
   ]
  },
  {
   "cell_type": "code",
   "execution_count": 102,
   "id": "ffd2fe56",
   "metadata": {
    "execution": {
     "iopub.execute_input": "2021-10-29T15:16:28.319029Z",
     "iopub.status.busy": "2021-10-29T15:16:28.315497Z",
     "iopub.status.idle": "2021-10-29T15:16:28.323686Z",
     "shell.execute_reply": "2021-10-29T15:16:28.323129Z",
     "shell.execute_reply.started": "2021-10-29T15:15:25.945797Z"
    },
    "papermill": {
     "duration": 0.087624,
     "end_time": "2021-10-29T15:16:28.323826",
     "exception": false,
     "start_time": "2021-10-29T15:16:28.236202",
     "status": "completed"
    },
    "scrolled": true,
    "tags": []
   },
   "outputs": [
    {
     "name": "stdout",
     "output_type": "stream",
     "text": [
      "Train set Accuracy:  86.78\n",
      "DecisionTrees's Accuracy:  85.25\n"
     ]
    }
   ],
   "source": [
    "from sklearn import metrics\n",
    "global acc_dt\n",
    "DTree_Score = metrics.accuracy_score(y_test, Tree_yhat) \n",
    "acc_dt = DTree_Score\n",
    "print(\"Train set Accuracy: \", round((100 * metrics.accuracy_score(y_train, DTree.predict(X_train))),2))\n",
    "print(\"DecisionTrees's Accuracy: \", round(100 * DTree_Score, 2))"
   ]
  },
  {
   "cell_type": "code",
   "execution_count": 103,
   "id": "264d8333",
   "metadata": {},
   "outputs": [],
   "source": [
    "from sklearn.metrics import confusion_matrix, classification_report\n",
    "import itertools\n",
    "import numpy as np\n",
    "\n",
    "%matplotlib inline\n",
    "import matplotlib.pyplot as plt\n",
    "# 1.Confusiom Matrix.\n",
    "def plot_confusion_matrix(cm, classes, normalize=False, title='Confusion matrix',cmap=plt.cm.Blues):\n",
    "    \"\"\"\n",
    "    This function prints and plots the confusion matrix.\n",
    "    Normalization can be applied by setting `normalize=True`.\n",
    "    \"\"\"\n",
    "    if normalize:\n",
    "        cm = cm.astype('float') / cm.sum(axis=1)[:, np.newaxis]\n",
    "        print(\"Normalized confusion matrix\")\n",
    "    else:\n",
    "        print('Confusion matrix, without normalization')\n",
    "\n",
    "    print(cm)\n",
    "\n",
    "    plt.imshow(cm, interpolation='nearest', cmap=cmap)\n",
    "    plt.title(title)\n",
    "    plt.colorbar()\n",
    "    tick_marks = np.arange(len(classes))\n",
    "    plt.xticks(tick_marks, classes, rotation=45)\n",
    "    plt.yticks(tick_marks, classes)\n",
    "\n",
    "    fmt = '.2f' if normalize else 'd'\n",
    "    thresh = cm.max() / 2.\n",
    "    for i, j in itertools.product(range(cm.shape[0]), range(cm.shape[1])):\n",
    "        plt.text(j, i, format(cm[i, j], fmt),\n",
    "                 horizontalalignment=\"center\",\n",
    "                 color=\"white\" if cm[i, j] > thresh else \"black\")\n",
    "\n",
    "    plt.tight_layout()\n",
    "    plt.grid(False)\n",
    "    plt.ylabel('True label')\n",
    "    plt.xlabel('Predicted label')"
   ]
  },
  {
   "cell_type": "code",
   "execution_count": 104,
   "id": "8a616cff",
   "metadata": {
    "execution": {
     "iopub.execute_input": "2021-10-29T15:16:28.488415Z",
     "iopub.status.busy": "2021-10-29T15:16:28.480603Z",
     "iopub.status.idle": "2021-10-29T15:16:28.764634Z",
     "shell.execute_reply": "2021-10-29T15:16:28.765139Z",
     "shell.execute_reply.started": "2021-10-29T15:15:25.961657Z"
    },
    "papermill": {
     "duration": 0.363973,
     "end_time": "2021-10-29T15:16:28.765326",
     "exception": false,
     "start_time": "2021-10-29T15:16:28.401353",
     "status": "completed"
    },
    "tags": []
   },
   "outputs": [
    {
     "name": "stdout",
     "output_type": "stream",
     "text": [
      "Confusion matrix, without normalization\n",
      "[[33  3]\n",
      " [ 6 19]]\n"
     ]
    },
    {
     "data": {
      "image/png": "[encoded data removed]",
      "text/plain": [
       "<Figure size 432x288 with 2 Axes>"
      ]
     },
     "metadata": {
      "needs_background": "light"
     },
     "output_type": "display_data"
    }
   ],
   "source": [
    "# Compute confusion matrix\n",
    "DTree_cnf_matrix = confusion_matrix(y_test, Tree_yhat, labels=[1,0])\n",
    "np.set_printoptions(precision=2)\n",
    "\n",
    "\n",
    "# Plot non-normalized confusion matrix\n",
    "plt.figure()\n",
    "plot_confusion_matrix(DTree_cnf_matrix, classes=['Heart Disease=1','Heart Disease=0'],normalize= False,  title='DTree Confusion matrix')"
   ]
  },
  {
   "cell_type": "code",
   "execution_count": 105,
   "id": "5410d5cd",
   "metadata": {
    "execution": {
     "iopub.execute_input": "2021-10-29T15:16:28.926986Z",
     "iopub.status.busy": "2021-10-29T15:16:28.926321Z",
     "iopub.status.idle": "2021-10-29T15:16:28.936137Z",
     "shell.execute_reply": "2021-10-29T15:16:28.936827Z",
     "shell.execute_reply.started": "2021-10-29T15:15:26.265050Z"
    },
    "papermill": {
     "duration": 0.09166,
     "end_time": "2021-10-29T15:16:28.937069",
     "exception": false,
     "start_time": "2021-10-29T15:16:28.845409",
     "status": "completed"
    },
    "tags": []
   },
   "outputs": [
    {
     "name": "stdout",
     "output_type": "stream",
     "text": [
      "              precision    recall  f1-score   support\n",
      "\n",
      "           0       0.86      0.76      0.81        25\n",
      "           1       0.85      0.92      0.88        36\n",
      "\n",
      "    accuracy                           0.85        61\n",
      "   macro avg       0.85      0.84      0.84        61\n",
      "weighted avg       0.85      0.85      0.85        61\n",
      "\n"
     ]
    }
   ],
   "source": [
    "from sklearn.metrics import recall_score, f1_score\n",
    "print (classification_report(y_test, Tree_yhat))\n",
    "DTree_Recall = recall_score(y_test, Tree_yhat)\n",
    "DTree_F1Score = f1_score(y_test, Tree_yhat)"
   ]
  },
  {
   "cell_type": "markdown",
   "id": "a0ad255c",
   "metadata": {
    "papermill": {
     "duration": 0.079074,
     "end_time": "2021-10-29T15:16:29.097398",
     "exception": false,
     "start_time": "2021-10-29T15:16:29.018324",
     "status": "completed"
    },
    "tags": []
   },
   "source": [
    "## Logistic Regression"
   ]
  },
  {
   "cell_type": "code",
   "execution_count": 106,
   "id": "96d1bcbb",
   "metadata": {
    "execution": {
     "iopub.execute_input": "2021-10-29T15:16:29.260442Z",
     "iopub.status.busy": "2021-10-29T15:16:29.257742Z",
     "iopub.status.idle": "2021-10-29T15:16:29.263511Z",
     "shell.execute_reply": "2021-10-29T15:16:29.264120Z",
     "shell.execute_reply.started": "2021-10-29T15:15:26.278881Z"
    },
    "papermill": {
     "duration": 0.08814,
     "end_time": "2021-10-29T15:16:29.264294",
     "exception": false,
     "start_time": "2021-10-29T15:16:29.176154",
     "status": "completed"
    },
    "tags": []
   },
   "outputs": [],
   "source": [
    "X=df.drop('target',axis=1).values    \n",
    "y=df['target'].values"
   ]
  },
  {
   "cell_type": "code",
   "execution_count": 107,
   "id": "415c7cd6",
   "metadata": {
    "execution": {
     "iopub.execute_input": "2021-10-29T15:16:29.426463Z",
     "iopub.status.busy": "2021-10-29T15:16:29.425421Z",
     "iopub.status.idle": "2021-10-29T15:16:29.434304Z",
     "shell.execute_reply": "2021-10-29T15:16:29.435201Z",
     "shell.execute_reply.started": "2021-10-29T15:15:26.286891Z"
    },
    "papermill": {
     "duration": 0.092001,
     "end_time": "2021-10-29T15:16:29.435430",
     "exception": false,
     "start_time": "2021-10-29T15:16:29.343429",
     "status": "completed"
    },
    "tags": []
   },
   "outputs": [
    {
     "name": "stdout",
     "output_type": "stream",
     "text": [
      "Train set: (242, 13) (242,)\n",
      "Test set: (61, 13) (61,)\n"
     ]
    }
   ],
   "source": [
    "from sklearn.model_selection import train_test_split\n",
    "X_train, X_test, y_train, y_test = train_test_split( X, y, test_size=0.2, random_state=4)\n",
    "print ('Train set:', X_train.shape,  y_train.shape)\n",
    "print ('Test set:', X_test.shape,  y_test.shape)"
   ]
  },
  {
   "cell_type": "code",
   "execution_count": 108,
   "id": "e1f23d76",
   "metadata": {
    "execution": {
     "iopub.execute_input": "2021-10-29T15:16:29.607762Z",
     "iopub.status.busy": "2021-10-29T15:16:29.607083Z",
     "iopub.status.idle": "2021-10-29T15:16:29.612687Z",
     "shell.execute_reply": "2021-10-29T15:16:29.613326Z",
     "shell.execute_reply.started": "2021-10-29T15:15:26.301507Z"
    },
    "papermill": {
     "duration": 0.097519,
     "end_time": "2021-10-29T15:16:29.613505",
     "exception": false,
     "start_time": "2021-10-29T15:16:29.515986",
     "status": "completed"
    },
    "tags": []
   },
   "outputs": [
    {
     "data": {
      "text/plain": [
       "LogisticRegression(C=0.01, solver='liblinear')"
      ]
     },
     "execution_count": 108,
     "metadata": {},
     "output_type": "execute_result"
    }
   ],
   "source": [
    "from sklearn.linear_model import LogisticRegression\n",
    "from sklearn.metrics import confusion_matrix\n",
    "LR = LogisticRegression(C=0.01, solver='liblinear').fit(X_train,y_train)\n",
    "LR"
   ]
  },
  {
   "cell_type": "code",
   "execution_count": 109,
   "id": "16a4bcc5",
   "metadata": {
    "execution": {
     "iopub.execute_input": "2021-10-29T15:16:29.777708Z",
     "iopub.status.busy": "2021-10-29T15:16:29.775883Z",
     "iopub.status.idle": "2021-10-29T15:16:29.781787Z",
     "shell.execute_reply": "2021-10-29T15:16:29.782418Z",
     "shell.execute_reply.started": "2021-10-29T15:15:26.319343Z"
    },
    "papermill": {
     "duration": 0.089743,
     "end_time": "2021-10-29T15:16:29.782588",
     "exception": false,
     "start_time": "2021-10-29T15:16:29.692845",
     "status": "completed"
    },
    "scrolled": true,
    "tags": []
   },
   "outputs": [
    {
     "data": {
      "text/plain": [
       "array([1, 0, 1, 1, 1], dtype=int64)"
      ]
     },
     "execution_count": 109,
     "metadata": {},
     "output_type": "execute_result"
    }
   ],
   "source": [
    "LR_yhat = LR.predict(X_test)\n",
    "LR_yhat[0:5]"
   ]
  },
  {
   "cell_type": "code",
   "execution_count": 110,
   "id": "4addd3db",
   "metadata": {
    "execution": {
     "iopub.execute_input": "2021-10-29T15:16:29.946566Z",
     "iopub.status.busy": "2021-10-29T15:16:29.945909Z",
     "iopub.status.idle": "2021-10-29T15:16:29.952435Z",
     "shell.execute_reply": "2021-10-29T15:16:29.951905Z",
     "shell.execute_reply.started": "2021-10-29T15:15:26.334436Z"
    },
    "papermill": {
     "duration": 0.089912,
     "end_time": "2021-10-29T15:16:29.952576",
     "exception": false,
     "start_time": "2021-10-29T15:16:29.862664",
     "status": "completed"
    },
    "tags": []
   },
   "outputs": [
    {
     "data": {
      "text/plain": [
       "array([[0.24, 0.76],\n",
       "       [0.69, 0.31],\n",
       "       [0.39, 0.61],\n",
       "       [0.12, 0.88],\n",
       "       [0.36, 0.64]])"
      ]
     },
     "execution_count": 110,
     "metadata": {},
     "output_type": "execute_result"
    }
   ],
   "source": [
    "LR_yhat_prob = LR.predict_proba(X_test)\n",
    "LR_yhat_prob[0:5]"
   ]
  },
  {
   "cell_type": "markdown",
   "id": "75b54b9e",
   "metadata": {
    "papermill": {
     "duration": 0.080056,
     "end_time": "2021-10-29T15:16:30.112541",
     "exception": false,
     "start_time": "2021-10-29T15:16:30.032485",
     "status": "completed"
    },
    "tags": []
   },
   "source": [
    "#### Logistic Regression Evaluation -"
   ]
  },
  {
   "cell_type": "code",
   "execution_count": 111,
   "id": "c907e740",
   "metadata": {
    "execution": {
     "iopub.execute_input": "2021-10-29T15:16:30.276520Z",
     "iopub.status.busy": "2021-10-29T15:16:30.275858Z",
     "iopub.status.idle": "2021-10-29T15:16:30.282123Z",
     "shell.execute_reply": "2021-10-29T15:16:30.281620Z",
     "shell.execute_reply.started": "2021-10-29T15:15:26.347951Z"
    },
    "papermill": {
     "duration": 0.090429,
     "end_time": "2021-10-29T15:16:30.282277",
     "exception": false,
     "start_time": "2021-10-29T15:16:30.191848",
     "status": "completed"
    },
    "tags": []
   },
   "outputs": [
    {
     "name": "stdout",
     "output_type": "stream",
     "text": [
      "Train set Accuracy:  76.45\n",
      "Logistic Regression's Accuracy:  81.97\n"
     ]
    }
   ],
   "source": [
    "from sklearn import metrics\n",
    "global acc_lr\n",
    "LR_Score = metrics.accuracy_score(y_test, LR_yhat) \n",
    "acc_lr = LR_Score\n",
    "print(\"Train set Accuracy: \", round(100*metrics.accuracy_score(y_train, LR.predict(X_train)),2))\n",
    "print(\"Logistic Regression's Accuracy: \", round(100 * LR_Score, 2))"
   ]
  },
  {
   "cell_type": "code",
   "execution_count": 112,
   "id": "1ad17703",
   "metadata": {
    "execution": {
     "iopub.execute_input": "2021-10-29T15:16:30.444627Z",
     "iopub.status.busy": "2021-10-29T15:16:30.444000Z",
     "iopub.status.idle": "2021-10-29T15:16:30.725455Z",
     "shell.execute_reply": "2021-10-29T15:16:30.725965Z",
     "shell.execute_reply.started": "2021-10-29T15:15:26.357866Z"
    },
    "papermill": {
     "duration": 0.36416,
     "end_time": "2021-10-29T15:16:30.726130",
     "exception": false,
     "start_time": "2021-10-29T15:16:30.361970",
     "status": "completed"
    },
    "tags": []
   },
   "outputs": [
    {
     "name": "stdout",
     "output_type": "stream",
     "text": [
      "Confusion matrix, without normalization\n",
      "[[34  2]\n",
      " [ 9 16]]\n"
     ]
    },
    {
     "data": {
      "image/png": "[encoded data removed]",
      "text/plain": [
       "<Figure size 432x288 with 2 Axes>"
      ]
     },
     "metadata": {
      "needs_background": "light"
     },
     "output_type": "display_data"
    }
   ],
   "source": [
    "# Compute confusion matrix\n",
    "LR_cnf_matrix = confusion_matrix(y_test, LR_yhat, labels=[1,0])\n",
    "np.set_printoptions(precision=2)\n",
    "\n",
    "\n",
    "# Plot non-normalized confusion matrix\n",
    "plt.figure()\n",
    "plot_confusion_matrix(LR_cnf_matrix, classes=['Heart Disease=1','Heart Disease=0'],normalize= False,  title='LR Confusion matrix')"
   ]
  },
  {
   "cell_type": "code",
   "execution_count": 113,
   "id": "8cf22a72",
   "metadata": {
    "execution": {
     "iopub.execute_input": "2021-10-29T15:16:30.892471Z",
     "iopub.status.busy": "2021-10-29T15:16:30.891372Z",
     "iopub.status.idle": "2021-10-29T15:16:30.903234Z",
     "shell.execute_reply": "2021-10-29T15:16:30.903976Z",
     "shell.execute_reply.started": "2021-10-29T15:15:26.654220Z"
    },
    "papermill": {
     "duration": 0.097346,
     "end_time": "2021-10-29T15:16:30.904202",
     "exception": false,
     "start_time": "2021-10-29T15:16:30.806856",
     "status": "completed"
    },
    "tags": []
   },
   "outputs": [
    {
     "name": "stdout",
     "output_type": "stream",
     "text": [
      "              precision    recall  f1-score   support\n",
      "\n",
      "           0       0.89      0.64      0.74        25\n",
      "           1       0.79      0.94      0.86        36\n",
      "\n",
      "    accuracy                           0.82        61\n",
      "   macro avg       0.84      0.79      0.80        61\n",
      "weighted avg       0.83      0.82      0.81        61\n",
      "\n"
     ]
    }
   ],
   "source": [
    "print (classification_report(y_test, LR_yhat))\n",
    "LR_Recall = recall_score(y_test, LR_yhat)\n",
    "LR_F1Score = f1_score(y_test, LR_yhat)"
   ]
  },
  {
   "cell_type": "markdown",
   "id": "0d295900",
   "metadata": {
    "papermill": {
     "duration": 0.082439,
     "end_time": "2021-10-29T15:16:31.071099",
     "exception": false,
     "start_time": "2021-10-29T15:16:30.988660",
     "status": "completed"
    },
    "tags": []
   },
   "source": [
    "## LSVM"
   ]
  },
  {
   "cell_type": "code",
   "execution_count": 114,
   "id": "41b43bf8",
   "metadata": {
    "execution": {
     "iopub.execute_input": "2021-10-29T15:16:31.239574Z",
     "iopub.status.busy": "2021-10-29T15:16:31.238834Z",
     "iopub.status.idle": "2021-10-29T15:16:31.243524Z",
     "shell.execute_reply": "2021-10-29T15:16:31.244130Z",
     "shell.execute_reply.started": "2021-10-29T15:15:26.669020Z"
    },
    "papermill": {
     "duration": 0.09106,
     "end_time": "2021-10-29T15:16:31.244318",
     "exception": false,
     "start_time": "2021-10-29T15:16:31.153258",
     "status": "completed"
    },
    "tags": []
   },
   "outputs": [],
   "source": [
    "X=df.drop('target',axis=1).values    \n",
    "y=df['target'].values"
   ]
  },
  {
   "cell_type": "code",
   "execution_count": 115,
   "id": "8328a4a3",
   "metadata": {
    "execution": {
     "iopub.execute_input": "2021-10-29T15:16:31.410253Z",
     "iopub.status.busy": "2021-10-29T15:16:31.409537Z",
     "iopub.status.idle": "2021-10-29T15:16:31.417726Z",
     "shell.execute_reply": "2021-10-29T15:16:31.417014Z",
     "shell.execute_reply.started": "2021-10-29T15:15:26.679680Z"
    },
    "papermill": {
     "duration": 0.092326,
     "end_time": "2021-10-29T15:16:31.417937",
     "exception": false,
     "start_time": "2021-10-29T15:16:31.325611",
     "status": "completed"
    },
    "tags": []
   },
   "outputs": [
    {
     "name": "stdout",
     "output_type": "stream",
     "text": [
      "Train set: (242, 13) (242,)\n",
      "Test set: (61, 13) (61,)\n"
     ]
    }
   ],
   "source": [
    "from sklearn.model_selection import train_test_split\n",
    "X_train, X_test, y_train, y_test = train_test_split( X, y, test_size=0.2, random_state=4)\n",
    "print ('Train set:', X_train.shape,  y_train.shape)\n",
    "print ('Test set:', X_test.shape,  y_test.shape)"
   ]
  },
  {
   "cell_type": "code",
   "execution_count": 116,
   "id": "b2c6ccfc",
   "metadata": {
    "execution": {
     "iopub.execute_input": "2021-10-29T15:16:31.588819Z",
     "iopub.status.busy": "2021-10-29T15:16:31.588122Z",
     "iopub.status.idle": "2021-10-29T15:16:31.596295Z",
     "shell.execute_reply": "2021-10-29T15:16:31.595643Z",
     "shell.execute_reply.started": "2021-10-29T15:15:26.691049Z"
    },
    "papermill": {
     "duration": 0.09463,
     "end_time": "2021-10-29T15:16:31.596433",
     "exception": false,
     "start_time": "2021-10-29T15:16:31.501803",
     "status": "completed"
    },
    "tags": []
   },
   "outputs": [
    {
     "data": {
      "text/plain": [
       "SVC(kernel='linear')"
      ]
     },
     "execution_count": 116,
     "metadata": {},
     "output_type": "execute_result"
    }
   ],
   "source": [
    "from sklearn import svm\n",
    "SVM = svm.SVC(kernel='linear')\n",
    "SVM.fit(X_train, y_train) "
   ]
  },
  {
   "cell_type": "code",
   "execution_count": 117,
   "id": "f8177c40",
   "metadata": {
    "execution": {
     "iopub.execute_input": "2021-10-29T15:16:31.769392Z",
     "iopub.status.busy": "2021-10-29T15:16:31.768554Z",
     "iopub.status.idle": "2021-10-29T15:16:31.772997Z",
     "shell.execute_reply": "2021-10-29T15:16:31.773491Z",
     "shell.execute_reply.started": "2021-10-29T15:15:26.704685Z"
    },
    "papermill": {
     "duration": 0.094809,
     "end_time": "2021-10-29T15:16:31.773666",
     "exception": false,
     "start_time": "2021-10-29T15:16:31.678857",
     "status": "completed"
    },
    "tags": []
   },
   "outputs": [
    {
     "data": {
      "text/plain": [
       "array([1, 0, 1, 1, 1], dtype=int64)"
      ]
     },
     "execution_count": 117,
     "metadata": {},
     "output_type": "execute_result"
    }
   ],
   "source": [
    "SVM_yhat = SVM.predict(X_test)\n",
    "SVM_yhat [0:5]"
   ]
  },
  {
   "cell_type": "markdown",
   "id": "e812fb13",
   "metadata": {},
   "source": [
    "#### SVM Evaluation -"
   ]
  },
  {
   "cell_type": "code",
   "execution_count": 118,
   "id": "1569cfb0",
   "metadata": {
    "execution": {
     "iopub.execute_input": "2021-10-29T15:16:31.944958Z",
     "iopub.status.busy": "2021-10-29T15:16:31.944315Z",
     "iopub.status.idle": "2021-10-29T15:16:31.953911Z",
     "shell.execute_reply": "2021-10-29T15:16:31.953319Z",
     "shell.execute_reply.started": "2021-10-29T15:15:26.716331Z"
    },
    "papermill": {
     "duration": 0.096089,
     "end_time": "2021-10-29T15:16:31.954073",
     "exception": false,
     "start_time": "2021-10-29T15:16:31.857984",
     "status": "completed"
    },
    "tags": []
   },
   "outputs": [
    {
     "name": "stdout",
     "output_type": "stream",
     "text": [
      "Train set Accuracy:  86.36\n",
      "SVM's Accuracy:  91.8\n"
     ]
    }
   ],
   "source": [
    "from sklearn import metrics\n",
    "global acc_svm\n",
    "SVM_Score = metrics.accuracy_score(y_test, SVM_yhat)\n",
    "acc_svm = SVM_Score\n",
    "print(\"Train set Accuracy: \", round(100*metrics.accuracy_score(y_train, SVM.predict(X_train)),2))\n",
    "print(\"SVM's Accuracy: \", round(100*SVM_Score, 2))"
   ]
  },
  {
   "cell_type": "code",
   "execution_count": 119,
   "id": "1bfc7a7f",
   "metadata": {
    "execution": {
     "iopub.execute_input": "2021-10-29T15:16:32.126522Z",
     "iopub.status.busy": "2021-10-29T15:16:32.125756Z",
     "iopub.status.idle": "2021-10-29T15:16:32.411392Z",
     "shell.execute_reply": "2021-10-29T15:16:32.411967Z",
     "shell.execute_reply.started": "2021-10-29T15:15:26.730748Z"
    },
    "papermill": {
     "duration": 0.375237,
     "end_time": "2021-10-29T15:16:32.412188",
     "exception": false,
     "start_time": "2021-10-29T15:16:32.036951",
     "status": "completed"
    },
    "tags": []
   },
   "outputs": [
    {
     "name": "stdout",
     "output_type": "stream",
     "text": [
      "Confusion matrix, without normalization\n",
      "[[34  2]\n",
      " [ 3 22]]\n"
     ]
    },
    {
     "data": {
      "image/png": "[encoded data removed]",
      "text/plain": [
       "<Figure size 432x288 with 2 Axes>"
      ]
     },
     "metadata": {
      "needs_background": "light"
     },
     "output_type": "display_data"
    }
   ],
   "source": [
    "# Compute confusion matrix\n",
    "SVM_cnf_matrix = confusion_matrix(y_test, SVM_yhat, labels=[1,0])\n",
    "np.set_printoptions(precision=2)\n",
    "\n",
    "\n",
    "# Plot non-normalized confusion matrix\n",
    "plt.figure()\n",
    "plot_confusion_matrix(SVM_cnf_matrix, classes=['Heart Disease=1','Heart Disease=0'],normalize= False,  title='SVM Confusion matrix')"
   ]
  },
  {
   "cell_type": "code",
   "execution_count": 120,
   "id": "bc474c0d",
   "metadata": {
    "execution": {
     "iopub.execute_input": "2021-10-29T15:16:32.586051Z",
     "iopub.status.busy": "2021-10-29T15:16:32.585368Z",
     "iopub.status.idle": "2021-10-29T15:16:32.595359Z",
     "shell.execute_reply": "2021-10-29T15:16:32.595877Z",
     "shell.execute_reply.started": "2021-10-29T15:15:27.028421Z"
    },
    "papermill": {
     "duration": 0.099191,
     "end_time": "2021-10-29T15:16:32.596074",
     "exception": false,
     "start_time": "2021-10-29T15:16:32.496883",
     "status": "completed"
    },
    "tags": []
   },
   "outputs": [
    {
     "name": "stdout",
     "output_type": "stream",
     "text": [
      "              precision    recall  f1-score   support\n",
      "\n",
      "           0       0.92      0.88      0.90        25\n",
      "           1       0.92      0.94      0.93        36\n",
      "\n",
      "    accuracy                           0.92        61\n",
      "   macro avg       0.92      0.91      0.91        61\n",
      "weighted avg       0.92      0.92      0.92        61\n",
      "\n"
     ]
    }
   ],
   "source": [
    "print (classification_report(y_test, SVM_yhat))\n",
    "SVM_Recall = recall_score(y_test, SVM_yhat)\n",
    "SVM_F1Score = f1_score(y_test, SVM_yhat)"
   ]
  },
  {
   "cell_type": "markdown",
   "id": "5aab3ef2",
   "metadata": {},
   "source": [
    "## Decision Tree - CHAID"
   ]
  },
  {
   "cell_type": "code",
   "execution_count": 121,
   "id": "b908b0e0",
   "metadata": {},
   "outputs": [],
   "source": [
    "X=df.drop('target',axis=1).values    \n",
    "y=df['target'].values"
   ]
  },
  {
   "cell_type": "code",
   "execution_count": 122,
   "id": "e4249c54",
   "metadata": {},
   "outputs": [
    {
     "name": "stdout",
     "output_type": "stream",
     "text": [
      "Train set: (242, 13) (242,)\n",
      "Test set: (61, 13) (61,)\n"
     ]
    }
   ],
   "source": [
    "from sklearn.model_selection import train_test_split\n",
    "X_train, X_test, y_train, y_test = train_test_split( X, y, test_size=0.2)\n",
    "print ('Train set:', X_train.shape,  y_train.shape)\n",
    "print ('Test set:', X_test.shape,  y_test.shape)"
   ]
  },
  {
   "cell_type": "code",
   "execution_count": 123,
   "id": "84cec67b",
   "metadata": {},
   "outputs": [],
   "source": [
    "# !pip install chefboost"
   ]
  },
  {
   "cell_type": "code",
   "execution_count": 124,
   "id": "206f13a5",
   "metadata": {},
   "outputs": [
    {
     "name": "stdout",
     "output_type": "stream",
     "text": [
      "[INFO]:  1 CPU cores will be allocated in parallel running\n",
      "WARNING: You set the algorithm to  CHAID  but the Decision column of your data set has non-object type.\n",
      "That's why, the algorithm is set to Regression to handle the data set.\n",
      "Regression  tree is going to be built...\n",
      "-------------------------\n",
      "finished in  21.551357984542847  seconds\n",
      "-------------------------\n",
      "Evaluate  train set\n",
      "-------------------------\n",
      "MAE:  0.052255225522552254\n",
      "MSE:  0.029427942794279432\n",
      "RMSE:  0.17154574548580165\n",
      "RAE:  0.23246592016982628\n",
      "RRSE:  0.3444617984776431\n",
      "Mean:  0.5445544554455446\n",
      "MAE / Mean:  9.595959595959595 %\n",
      "RMSE / Mean:  31.502036898301753 %\n"
     ]
    }
   ],
   "source": [
    "from chefboost import Chefboost as chef\n",
    "config = {'algorithm': 'CHAID'}\n",
    "global model2\n",
    "model = chef.fit(df, config = config, target_label = 'target')\n",
    "model2 = model"
   ]
  },
  {
   "cell_type": "code",
   "execution_count": 125,
   "id": "bb995db2",
   "metadata": {},
   "outputs": [
    {
     "data": {
      "text/plain": [
       "{'trees': [<module 'outputs/rules/rules' from 'C:\\\\Users\\\\Sai Teja\\\\Desktop\\\\Heart Disease Classification\\\\outputs/rules/rules.py'>],\n",
       " 'alphas': [],\n",
       " 'config': {'algorithm': 'Regression',\n",
       "  'enableRandomForest': False,\n",
       "  'num_of_trees': 5,\n",
       "  'enableMultitasking': False,\n",
       "  'enableGBM': False,\n",
       "  'epochs': 10,\n",
       "  'learning_rate': 1,\n",
       "  'max_depth': 3,\n",
       "  'enableAdaboost': False,\n",
       "  'num_of_weak_classifier': 4,\n",
       "  'enableParallelism': True,\n",
       "  'num_cores': 1},\n",
       " 'nan_values': [['age', None],\n",
       "  ['sex', None],\n",
       "  ['cp', None],\n",
       "  ['trestbps', None],\n",
       "  ['chol', None],\n",
       "  ['fbs', None],\n",
       "  ['restecg', None],\n",
       "  ['thalach', None],\n",
       "  ['exang', None],\n",
       "  ['oldpeak', None],\n",
       "  ['slope', None],\n",
       "  ['ca', None],\n",
       "  ['thal', None],\n",
       "  ['Decision', None]]}"
      ]
     },
     "execution_count": 125,
     "metadata": {},
     "output_type": "execute_result"
    }
   ],
   "source": [
    "model"
   ]
  },
  {
   "cell_type": "code",
   "execution_count": 126,
   "id": "1c33d3b2",
   "metadata": {},
   "outputs": [
    {
     "name": "stdout",
     "output_type": "stream",
     "text": [
      "Decision: 0\n"
     ]
    }
   ],
   "source": [
    "#Prediction for Single instance\n",
    "test_ins = df.loc[300]\n",
    "prediction = chef.predict(model, param = test_ins)\n",
    "print(\"Decision:\",prediction)"
   ]
  },
  {
   "cell_type": "code",
   "execution_count": 127,
   "id": "5de9e4cd",
   "metadata": {},
   "outputs": [
    {
     "name": "stdout",
     "output_type": "stream",
     "text": [
      "Decision: 1\n"
     ]
    }
   ],
   "source": [
    "#Prediction for Single instance\n",
    "test_ins = df.loc[45]\n",
    "prediction = chef.predict(model, param = test_ins)\n",
    "print(\"Decision:\",prediction)"
   ]
  },
  {
   "cell_type": "code",
   "execution_count": 128,
   "id": "9e35636d",
   "metadata": {},
   "outputs": [
    {
     "data": {
      "text/plain": [
       "[1, 1, 1, 0, 1, 1, 1, 0, 0, 0, 1, 1, 1, 1, 1, 1, 1, 1, 1, 0]"
      ]
     },
     "execution_count": 128,
     "metadata": {},
     "output_type": "execute_result"
    }
   ],
   "source": [
    "#Predcition for Complete Test dataset.\n",
    "l = X_test.tolist()\n",
    "chaid_yhat = []\n",
    "for i in range(len(l)):\n",
    "    pred = chef.predict(model, param = l[i])\n",
    "    if pred >= 0.5:\n",
    "        chaid_yhat.append(1)\n",
    "    elif pred < 0.5:\n",
    "        chaid_yhat.append(0)\n",
    "    \n",
    "  \n",
    "chaid_yhat[0:20]\n"
   ]
  },
  {
   "cell_type": "markdown",
   "id": "8fd1399d",
   "metadata": {},
   "source": [
    "##### Comparing prediction with y_test:"
   ]
  },
  {
   "cell_type": "code",
   "execution_count": 129,
   "id": "78e75220",
   "metadata": {},
   "outputs": [
    {
     "data": {
      "text/plain": [
       "array([1, 1, 1, 0, 1, 1, 1, 1, 0, 0, 1, 1, 1, 1, 1, 1, 1, 1, 1, 0, 0, 0,\n",
       "       0, 1, 0, 1, 0, 1, 0, 1, 1, 0, 1, 1, 1, 0, 0, 0, 0, 1, 1, 0, 1, 0,\n",
       "       0, 0, 1, 0, 0, 0, 1, 0, 1, 0, 0, 1, 1, 0, 0, 0, 0], dtype=int64)"
      ]
     },
     "execution_count": 129,
     "metadata": {},
     "output_type": "execute_result"
    }
   ],
   "source": [
    "y_test"
   ]
  },
  {
   "cell_type": "markdown",
   "id": "7ba7d63e",
   "metadata": {},
   "source": [
    "#### Decision Tree CHAID Evaluation -"
   ]
  },
  {
   "cell_type": "code",
   "execution_count": 130,
   "id": "3dde9f9d",
   "metadata": {},
   "outputs": [
    {
     "name": "stdout",
     "output_type": "stream",
     "text": [
      "Train set Accuracy:  96\n",
      "CHAID Accuracy:  93.44\n"
     ]
    },
    {
     "name": "stderr",
     "output_type": "stream",
     "text": [
      "C:\\Users\\Sai Teja\\anaconda3\\envs\\tf\\lib\\site-packages\\sklearn\\utils\\validation.py:70: FutureWarning: Pass normalize=2 as keyword args. From version 1.0 (renaming of 0.25) passing these as positional arguments will result in an error\n",
      "  warnings.warn(f\"Pass {args_msg} as keyword args. From version \"\n"
     ]
    }
   ],
   "source": [
    "from sklearn import metrics\n",
    "\n",
    "#Training Score Evaluation\n",
    "p = X_train.tolist()\n",
    "chaid_xhat = []\n",
    "for i in range(len(p)):\n",
    "    pred = chef.predict(model, param = p[i])\n",
    "    if pred >= 0.5:\n",
    "        chaid_xhat.append(1)\n",
    "    elif pred < 0.5:\n",
    "        chaid_xhat.append(0)\n",
    "\n",
    "rf_Score = metrics.accuracy_score(y_test, chaid_yhat)\n",
    "global acc_chaid\n",
    "acc_chaid = rf_Score\n",
    "\n",
    "print(\"Train set Accuracy: \", round(100*metrics.accuracy_score(y_train, chaid_xhat,2)))\n",
    "print(\"CHAID Accuracy: \", round(100*rf_Score, 2))"
   ]
  },
  {
   "cell_type": "code",
   "execution_count": 131,
   "id": "cfd52137",
   "metadata": {},
   "outputs": [
    {
     "name": "stdout",
     "output_type": "stream",
     "text": [
      "Confusion matrix, without normalization\n",
      "[[30  2]\n",
      " [ 2 27]]\n"
     ]
    },
    {
     "data": {
      "image/png": "[encoded data removed]",
      "text/plain": [
       "<Figure size 432x288 with 2 Axes>"
      ]
     },
     "metadata": {
      "needs_background": "light"
     },
     "output_type": "display_data"
    }
   ],
   "source": [
    "# Compute confusion matrix\n",
    "rf_cnf_matrix = confusion_matrix(y_test, chaid_yhat, labels=[1,0])\n",
    "np.set_printoptions(precision=2)\n",
    "\n",
    "\n",
    "# Plot non-normalized confusion matrix\n",
    "plt.figure()\n",
    "plot_confusion_matrix(rf_cnf_matrix, classes=['Heart Disease=1','Heart Disease=0'],normalize= False,  title='Random Forest Confusion matrix')"
   ]
  },
  {
   "cell_type": "code",
   "execution_count": 132,
   "id": "a2a8dd67",
   "metadata": {},
   "outputs": [
    {
     "name": "stdout",
     "output_type": "stream",
     "text": [
      "              precision    recall  f1-score   support\n",
      "\n",
      "           0       0.93      0.93      0.93        29\n",
      "           1       0.94      0.94      0.94        32\n",
      "\n",
      "    accuracy                           0.93        61\n",
      "   macro avg       0.93      0.93      0.93        61\n",
      "weighted avg       0.93      0.93      0.93        61\n",
      "\n"
     ]
    }
   ],
   "source": [
    "print (classification_report(y_test, chaid_yhat))\n",
    "rf_Recall = recall_score(y_test, chaid_yhat)\n",
    "rf_F1Score = f1_score(y_test, chaid_yhat)"
   ]
  },
  {
   "cell_type": "markdown",
   "id": "d4377311",
   "metadata": {},
   "source": [
    "## Ada Boost"
   ]
  },
  {
   "cell_type": "code",
   "execution_count": 133,
   "id": "b6848146",
   "metadata": {},
   "outputs": [],
   "source": [
    "X=df.drop('target',axis=1).values    \n",
    "y=df['target'].values"
   ]
  },
  {
   "cell_type": "code",
   "execution_count": 134,
   "id": "6750dde0",
   "metadata": {},
   "outputs": [
    {
     "name": "stdout",
     "output_type": "stream",
     "text": [
      "Train set: (242, 13) (242,)\n",
      "Test set: (61, 13) (61,)\n"
     ]
    }
   ],
   "source": [
    "from sklearn.model_selection import train_test_split\n",
    "X_train, X_test, y_train, y_test = train_test_split( X, y, test_size=0.2, random_state=4)\n",
    "print ('Train set:', X_train.shape,  y_train.shape)\n",
    "print ('Test set:', X_test.shape,  y_test.shape)"
   ]
  },
  {
   "cell_type": "code",
   "execution_count": 135,
   "id": "ca1a2610",
   "metadata": {},
   "outputs": [
    {
     "data": {
      "text/plain": [
       "AdaBoostClassifier(random_state=0)"
      ]
     },
     "execution_count": 135,
     "metadata": {},
     "output_type": "execute_result"
    }
   ],
   "source": [
    "from sklearn.ensemble import AdaBoostClassifier\n",
    "ada = AdaBoostClassifier(n_estimators=50, random_state=0)\n",
    "ada.fit(X, y)"
   ]
  },
  {
   "cell_type": "code",
   "execution_count": 136,
   "id": "f01b6f94",
   "metadata": {},
   "outputs": [
    {
     "data": {
      "text/plain": [
       "array([1, 0, 1, 1, 0], dtype=int64)"
      ]
     },
     "execution_count": 136,
     "metadata": {},
     "output_type": "execute_result"
    }
   ],
   "source": [
    "ada_yhat = ada.predict(X_test)\n",
    "ada_yhat [0:5]"
   ]
  },
  {
   "cell_type": "markdown",
   "id": "847e2c76",
   "metadata": {},
   "source": [
    "#### Ada Boost Evaluation -"
   ]
  },
  {
   "cell_type": "code",
   "execution_count": 137,
   "id": "0cce3d08",
   "metadata": {},
   "outputs": [
    {
     "name": "stdout",
     "output_type": "stream",
     "text": [
      "Train set Accuracy:  91.32\n",
      "Ada Boost's Accuracy:  93.44\n"
     ]
    }
   ],
   "source": [
    "from sklearn import metrics\n",
    "global acc_ada\n",
    "ada_Score = metrics.accuracy_score(y_test, ada_yhat)\n",
    "acc_ada = ada_Score\n",
    "print(\"Train set Accuracy: \", round(100*metrics.accuracy_score(y_train, ada.predict(X_train)),2))\n",
    "print(\"Ada Boost's Accuracy: \", round(100*ada_Score, 2))"
   ]
  },
  {
   "cell_type": "code",
   "execution_count": 138,
   "id": "d720fe9f",
   "metadata": {},
   "outputs": [
    {
     "name": "stdout",
     "output_type": "stream",
     "text": [
      "Confusion matrix, without normalization\n",
      "[[33  3]\n",
      " [ 1 24]]\n"
     ]
    },
    {
     "data": {
      "image/png": "[encoded data removed]",
      "text/plain": [
       "<Figure size 432x288 with 2 Axes>"
      ]
     },
     "metadata": {
      "needs_background": "light"
     },
     "output_type": "display_data"
    }
   ],
   "source": [
    "# Compute confusion matrix\n",
    "ada_cnf_matrix = confusion_matrix(y_test, ada_yhat, labels=[1,0])\n",
    "np.set_printoptions(precision=2)\n",
    "\n",
    "\n",
    "# Plot non-normalized confusion matrix\n",
    "plt.figure()\n",
    "plot_confusion_matrix(ada_cnf_matrix, classes=['Heart Disease=1','Heart Disease=0'],normalize= False,  title='Random Forest Confusion matrix')"
   ]
  },
  {
   "cell_type": "code",
   "execution_count": 139,
   "id": "09e1a554",
   "metadata": {},
   "outputs": [
    {
     "name": "stdout",
     "output_type": "stream",
     "text": [
      "              precision    recall  f1-score   support\n",
      "\n",
      "           0       0.89      0.96      0.92        25\n",
      "           1       0.97      0.92      0.94        36\n",
      "\n",
      "    accuracy                           0.93        61\n",
      "   macro avg       0.93      0.94      0.93        61\n",
      "weighted avg       0.94      0.93      0.93        61\n",
      "\n"
     ]
    }
   ],
   "source": [
    "print (classification_report(y_test, ada_yhat))\n",
    "ada_Recall = recall_score(y_test, ada_yhat)\n",
    "ada_F1Score = f1_score(y_test, ada_yhat)"
   ]
  },
  {
   "cell_type": "markdown",
   "id": "a02acc5e",
   "metadata": {},
   "source": [
    "## Gradient Boost"
   ]
  },
  {
   "cell_type": "code",
   "execution_count": 140,
   "id": "7b289101",
   "metadata": {},
   "outputs": [],
   "source": [
    "X=df.drop('target',axis=1).values    \n",
    "y=df['target'].values"
   ]
  },
  {
   "cell_type": "code",
   "execution_count": 141,
   "id": "cc8ce229",
   "metadata": {},
   "outputs": [
    {
     "name": "stdout",
     "output_type": "stream",
     "text": [
      "Train set: (242, 13) (242,)\n",
      "Test set: (61, 13) (61,)\n"
     ]
    }
   ],
   "source": [
    "from sklearn.model_selection import train_test_split\n",
    "X_train, X_test, y_train, y_test = train_test_split( X, y, test_size=0.2, random_state=4)\n",
    "print ('Train set:', X_train.shape,  y_train.shape)\n",
    "print ('Test set:', X_test.shape,  y_test.shape)"
   ]
  },
  {
   "cell_type": "code",
   "execution_count": 142,
   "id": "f5c5a5c8",
   "metadata": {},
   "outputs": [],
   "source": [
    "from sklearn.ensemble import GradientBoostingClassifier\n",
    "grad = GradientBoostingClassifier(n_estimators=50, learning_rate=1.0, max_depth=1, random_state=0).fit(X_train, y_train)"
   ]
  },
  {
   "cell_type": "code",
   "execution_count": 143,
   "id": "c551410e",
   "metadata": {},
   "outputs": [
    {
     "data": {
      "text/plain": [
       "array([0, 1, 1, 1, 0], dtype=int64)"
      ]
     },
     "execution_count": 143,
     "metadata": {},
     "output_type": "execute_result"
    }
   ],
   "source": [
    "grad_yhat = grad.predict(X_test)\n",
    "grad_yhat [0:5]"
   ]
  },
  {
   "cell_type": "markdown",
   "id": "682f32eb",
   "metadata": {},
   "source": [
    "#### Gradient Boost Evaluation -"
   ]
  },
  {
   "cell_type": "code",
   "execution_count": 144,
   "id": "1404edf2",
   "metadata": {},
   "outputs": [
    {
     "name": "stdout",
     "output_type": "stream",
     "text": [
      "Train set Accuracy:  93.39\n",
      "Gradient Boost's Accuracy:  81.97\n"
     ]
    }
   ],
   "source": [
    "from sklearn import metrics\n",
    "global acc_gb\n",
    "grad_Score = metrics.accuracy_score(y_test, grad_yhat)\n",
    "acc_gb = grad_Score\n",
    "print(\"Train set Accuracy: \", round(100*metrics.accuracy_score(y_train, grad.predict(X_train)),2))\n",
    "print(\"Gradient Boost's Accuracy: \", round(100*grad_Score, 2))"
   ]
  },
  {
   "cell_type": "code",
   "execution_count": 145,
   "id": "8cb60f77",
   "metadata": {},
   "outputs": [
    {
     "name": "stdout",
     "output_type": "stream",
     "text": [
      "Confusion matrix, without normalization\n",
      "[[33  3]\n",
      " [ 1 24]]\n"
     ]
    },
    {
     "data": {
      "image/png": "[encoded data removed]",
      "text/plain": [
       "<Figure size 432x288 with 2 Axes>"
      ]
     },
     "metadata": {
      "needs_background": "light"
     },
     "output_type": "display_data"
    }
   ],
   "source": [
    "# Compute confusion matrix\n",
    "grad_cnf_matrix = confusion_matrix(y_test, ada_yhat, labels=[1,0])\n",
    "np.set_printoptions(precision=2)\n",
    "\n",
    "\n",
    "# Plot non-normalized confusion matrix\n",
    "plt.figure()\n",
    "plot_confusion_matrix(grad_cnf_matrix, classes=['Heart Disease=1','Heart Disease=0'],normalize= False,  title='Gradient Boost Confusion matrix')"
   ]
  },
  {
   "cell_type": "code",
   "execution_count": 146,
   "id": "714aa59e",
   "metadata": {},
   "outputs": [
    {
     "name": "stdout",
     "output_type": "stream",
     "text": [
      "              precision    recall  f1-score   support\n",
      "\n",
      "           0       0.79      0.76      0.78        25\n",
      "           1       0.84      0.86      0.85        36\n",
      "\n",
      "    accuracy                           0.82        61\n",
      "   macro avg       0.81      0.81      0.81        61\n",
      "weighted avg       0.82      0.82      0.82        61\n",
      "\n"
     ]
    }
   ],
   "source": [
    "print (classification_report(y_test, grad_yhat))\n",
    "grad_Recall = recall_score(y_test, grad_yhat)\n",
    "grad_F1Score = f1_score(y_test, grad_yhat)"
   ]
  },
  {
   "cell_type": "markdown",
   "id": "b36a2769",
   "metadata": {},
   "source": [
    "## XG Boost"
   ]
  },
  {
   "cell_type": "code",
   "execution_count": 147,
   "id": "118b0bf0",
   "metadata": {},
   "outputs": [],
   "source": [
    "X=df.drop('target',axis=1).values    \n",
    "y=df['target'].values"
   ]
  },
  {
   "cell_type": "code",
   "execution_count": 148,
   "id": "dd4c16f3",
   "metadata": {},
   "outputs": [
    {
     "name": "stdout",
     "output_type": "stream",
     "text": [
      "Train set: (242, 13) (242,)\n",
      "Test set: (61, 13) (61,)\n"
     ]
    }
   ],
   "source": [
    "from sklearn.model_selection import train_test_split\n",
    "X_train, X_test, y_train, y_test = train_test_split( X, y, test_size=0.2, random_state=4)\n",
    "print ('Train set:', X_train.shape,  y_train.shape)\n",
    "print ('Test set:', X_test.shape,  y_test.shape)"
   ]
  },
  {
   "cell_type": "code",
   "execution_count": 149,
   "id": "98cbf95d",
   "metadata": {},
   "outputs": [],
   "source": [
    "#!pip install xgboost"
   ]
  },
  {
   "cell_type": "code",
   "execution_count": 150,
   "id": "1c83c443",
   "metadata": {},
   "outputs": [],
   "source": [
    "import xgboost as xgb"
   ]
  },
  {
   "cell_type": "code",
   "execution_count": 151,
   "id": "db420d4f",
   "metadata": {},
   "outputs": [],
   "source": [
    "# convert the dataset into an optimized data structure called Dmatrix that XGBoost supports and gives it acclaimed performance and efficiency gains. \n",
    "data_dmatrix = xgb.DMatrix(data=X,label=y)"
   ]
  },
  {
   "cell_type": "code",
   "execution_count": 152,
   "id": "4d92d028",
   "metadata": {},
   "outputs": [],
   "source": [
    "xg = xgb.XGBClassifier(objective ='reg:linear', colsample_bytree = 0.3, learning_rate = 0.1,max_depth = 5, alpha = 10, n_estimators = 10)"
   ]
  },
  {
   "cell_type": "code",
   "execution_count": 153,
   "id": "b4bd27ab",
   "metadata": {},
   "outputs": [
    {
     "name": "stdout",
     "output_type": "stream",
     "text": [
      "[14:28:10] WARNING: C:/Users/Administrator/workspace/xgboost-win64_release_1.5.1/src/objective/regression_obj.cu:188: reg:linear is now deprecated in favor of reg:squarederror.\n"
     ]
    },
    {
     "name": "stderr",
     "output_type": "stream",
     "text": [
      "C:\\Users\\Sai Teja\\anaconda3\\envs\\tf\\lib\\site-packages\\xgboost\\sklearn.py:1224: UserWarning: The use of label encoder in XGBClassifier is deprecated and will be removed in a future release. To remove this warning, do the following: 1) Pass option use_label_encoder=False when constructing XGBClassifier object; and 2) Encode your labels (y) as integers starting with 0, i.e. 0, 1, 2, ..., [num_class - 1].\n",
      "  warnings.warn(label_encoder_deprecation_msg, UserWarning)\n"
     ]
    },
    {
     "data": {
      "text/plain": [
       "XGBClassifier(alpha=10, base_score=0.5, booster='gbtree', colsample_bylevel=1,\n",
       "              colsample_bynode=1, colsample_bytree=0.3,\n",
       "              enable_categorical=False, gamma=0, gpu_id=-1,\n",
       "              importance_type=None, interaction_constraints='',\n",
       "              learning_rate=0.1, max_delta_step=0, max_depth=5,\n",
       "              min_child_weight=1, missing=nan, monotone_constraints='()',\n",
       "              n_estimators=10, n_jobs=2, num_parallel_tree=1,\n",
       "              objective='reg:linear', predictor='auto', random_state=0,\n",
       "              reg_alpha=10, reg_lambda=1, scale_pos_weight=1, subsample=1,\n",
       "              tree_method='exact', validate_parameters=1, verbosity=None)"
      ]
     },
     "execution_count": 153,
     "metadata": {},
     "output_type": "execute_result"
    }
   ],
   "source": [
    "xg.fit(X_train,y_train)"
   ]
  },
  {
   "cell_type": "code",
   "execution_count": 154,
   "id": "a4f9a3d0",
   "metadata": {},
   "outputs": [
    {
     "data": {
      "text/plain": [
       "array([1, 0, 1, 1, 0], dtype=int64)"
      ]
     },
     "execution_count": 154,
     "metadata": {},
     "output_type": "execute_result"
    }
   ],
   "source": [
    "xg_yhat = xg.predict(X_test)\n",
    "xg_yhat [0:5]"
   ]
  },
  {
   "cell_type": "markdown",
   "id": "2b5ce2e8",
   "metadata": {},
   "source": [
    "#### XG Boost Evaluation - "
   ]
  },
  {
   "cell_type": "code",
   "execution_count": 155,
   "id": "3d34fbdb",
   "metadata": {},
   "outputs": [
    {
     "name": "stdout",
     "output_type": "stream",
     "text": [
      "Train set Accuracy:  85.54\n",
      "XG Boost's Accuracy:  85.25\n"
     ]
    }
   ],
   "source": [
    "from sklearn import metrics\n",
    "global acc_xg\n",
    "xg_Score = metrics.accuracy_score(y_test, xg_yhat)\n",
    "acc_xg = xg_Score\n",
    "print(\"Train set Accuracy: \", round(100*metrics.accuracy_score(y_train, xg.predict(X_train)),2))\n",
    "print(\"XG Boost's Accuracy: \", round(100*xg_Score, 2))"
   ]
  },
  {
   "cell_type": "code",
   "execution_count": 156,
   "id": "062b2a0a",
   "metadata": {},
   "outputs": [
    {
     "name": "stdout",
     "output_type": "stream",
     "text": [
      "Confusion matrix, without normalization\n",
      "[[34  2]\n",
      " [ 7 18]]\n"
     ]
    },
    {
     "data": {
      "image/png": "[encoded data removed]",
      "text/plain": [
       "<Figure size 432x288 with 2 Axes>"
      ]
     },
     "metadata": {
      "needs_background": "light"
     },
     "output_type": "display_data"
    }
   ],
   "source": [
    "# Compute confusion matrix\n",
    "xg_cnf_matrix = confusion_matrix(y_test, xg_yhat, labels=[1,0])\n",
    "np.set_printoptions(precision=2)\n",
    "\n",
    "\n",
    "# Plot non-normalized confusion matrix\n",
    "plt.figure()\n",
    "plot_confusion_matrix(xg_cnf_matrix, classes=['Heart Disease=1','Heart Disease=0'],normalize= False,  title='XG Boost Confusion matrix')"
   ]
  },
  {
   "cell_type": "code",
   "execution_count": 157,
   "id": "8c48933e",
   "metadata": {},
   "outputs": [
    {
     "name": "stdout",
     "output_type": "stream",
     "text": [
      "              precision    recall  f1-score   support\n",
      "\n",
      "           0       0.90      0.72      0.80        25\n",
      "           1       0.83      0.94      0.88        36\n",
      "\n",
      "    accuracy                           0.85        61\n",
      "   macro avg       0.86      0.83      0.84        61\n",
      "weighted avg       0.86      0.85      0.85        61\n",
      "\n"
     ]
    }
   ],
   "source": [
    "print (classification_report(y_test,xg_yhat))\n",
    "xg_Recall = recall_score(y_test, xg_yhat)\n",
    "xg_F1Score = f1_score(y_test, xg_yhat)"
   ]
  },
  {
   "cell_type": "markdown",
   "id": "1cec5162",
   "metadata": {
    "papermill": {
     "duration": 0.085218,
     "end_time": "2021-10-29T15:16:32.765645",
     "exception": false,
     "start_time": "2021-10-29T15:16:32.680427",
     "status": "completed"
    },
    "tags": []
   },
   "source": [
    "## Comparing Classification Methods"
   ]
  },
  {
   "cell_type": "code",
   "execution_count": 158,
   "id": "ad2f5d4a",
   "metadata": {},
   "outputs": [
    {
     "data": {
      "text/html": [
       "<div>\n",
       "<style scoped>\n",
       "    .dataframe tbody tr th:only-of-type {\n",
       "        vertical-align: middle;\n",
       "    }\n",
       "\n",
       "    .dataframe tbody tr th {\n",
       "        vertical-align: top;\n",
       "    }\n",
       "\n",
       "    .dataframe thead th {\n",
       "        text-align: right;\n",
       "    }\n",
       "</style>\n",
       "<table border=\"1\" class=\"dataframe\">\n",
       "  <thead>\n",
       "    <tr style=\"text-align: right;\">\n",
       "      <th></th>\n",
       "      <th>Methods</th>\n",
       "      <th>Accuracy</th>\n",
       "      <th>Recall</th>\n",
       "      <th>F1-Score</th>\n",
       "    </tr>\n",
       "  </thead>\n",
       "  <tbody>\n",
       "    <tr>\n",
       "      <th>0</th>\n",
       "      <td>Decision Tree</td>\n",
       "      <td>0.85</td>\n",
       "      <td>0.92</td>\n",
       "      <td>0.88</td>\n",
       "    </tr>\n",
       "    <tr>\n",
       "      <th>1</th>\n",
       "      <td>Logistic Regression</td>\n",
       "      <td>0.82</td>\n",
       "      <td>0.94</td>\n",
       "      <td>0.86</td>\n",
       "    </tr>\n",
       "    <tr>\n",
       "      <th>2</th>\n",
       "      <td>SVM</td>\n",
       "      <td>0.92</td>\n",
       "      <td>0.94</td>\n",
       "      <td>0.93</td>\n",
       "    </tr>\n",
       "    <tr>\n",
       "      <th>3</th>\n",
       "      <td>CHAID</td>\n",
       "      <td>0.93</td>\n",
       "      <td>0.94</td>\n",
       "      <td>0.94</td>\n",
       "    </tr>\n",
       "    <tr>\n",
       "      <th>4</th>\n",
       "      <td>Ada Boost</td>\n",
       "      <td>0.93</td>\n",
       "      <td>0.92</td>\n",
       "      <td>0.94</td>\n",
       "    </tr>\n",
       "    <tr>\n",
       "      <th>5</th>\n",
       "      <td>Gradient Boost</td>\n",
       "      <td>0.82</td>\n",
       "      <td>0.86</td>\n",
       "      <td>0.85</td>\n",
       "    </tr>\n",
       "    <tr>\n",
       "      <th>6</th>\n",
       "      <td>XG Boost</td>\n",
       "      <td>0.85</td>\n",
       "      <td>0.94</td>\n",
       "      <td>0.88</td>\n",
       "    </tr>\n",
       "  </tbody>\n",
       "</table>\n",
       "</div>"
      ],
      "text/plain": [
       "               Methods  Accuracy  Recall  F1-Score\n",
       "0        Decision Tree      0.85    0.92      0.88\n",
       "1  Logistic Regression      0.82    0.94      0.86\n",
       "2                  SVM      0.92    0.94      0.93\n",
       "3                CHAID      0.93    0.94      0.94\n",
       "4            Ada Boost      0.93    0.92      0.94\n",
       "5       Gradient Boost      0.82    0.86      0.85\n",
       "6             XG Boost      0.85    0.94      0.88"
      ]
     },
     "execution_count": 158,
     "metadata": {},
     "output_type": "execute_result"
    }
   ],
   "source": [
    "pd.options.display.float_format = \"{:,.2f}\".format\n",
    "\n",
    "Scores_Comparison = {'Methods': ['Decision Tree', 'Logistic Regression', 'SVM', 'CHAID', 'Ada Boost', 'Gradient Boost', 'XG Boost'],\n",
    "                     'Accuracy': [ DTree_Score, LR_Score, SVM_Score, rf_Score, ada_Score, grad_Score, xg_Score] ,\n",
    "                     'Recall': [ DTree_Recall, LR_Recall, SVM_Recall, rf_Recall, ada_Recall, grad_Recall, xg_Recall],\n",
    "                     'F1-Score': [ DTree_F1Score, LR_F1Score, SVM_F1Score, rf_F1Score, ada_F1Score, grad_F1Score, xg_F1Score]\n",
    "                    }\n",
    "Scores_Comparison = pd.DataFrame(data=Scores_Comparison)\n",
    "#Scores_Comparison.sort_values(by='Recall', ascending=False)\n",
    "Scores_Comparison"
   ]
  },
  {
   "cell_type": "code",
   "execution_count": 159,
   "id": "d08085d7",
   "metadata": {},
   "outputs": [],
   "source": [
    "#!pip install tkinter"
   ]
  },
  {
   "cell_type": "code",
   "execution_count": 160,
   "id": "4d4d4a02",
   "metadata": {},
   "outputs": [
    {
     "data": {
      "text/plain": [
       "<AxesSubplot:>"
      ]
     },
     "execution_count": 160,
     "metadata": {},
     "output_type": "execute_result"
    },
    {
     "data": {
      "image/png": "[encoded data removed]",
      "text/plain": [
       "<Figure size 720x576 with 1 Axes>"
      ]
     },
     "metadata": {},
     "output_type": "display_data"
    }
   ],
   "source": [
    "from matplotlib.pyplot import figure, rcParams\n",
    "rcParams['figure.figsize'] = 10,8\n",
    "sns.set_theme(style=\"ticks\")\n",
    "sns.lineplot(data=Scores_Comparison, markers=True, dashes=False)"
   ]
  },
  {
   "cell_type": "markdown",
   "id": "7c4a5104",
   "metadata": {},
   "source": [
    "## User Interface - "
   ]
  },
  {
   "cell_type": "code",
   "execution_count": 163,
   "id": "4138ad6c",
   "metadata": {},
   "outputs": [
    {
     "name": "stdout",
     "output_type": "stream",
     "text": [
      "INPUT: 41 1 0 110 172 0 0 158 0 0 2 0 3\n"
     ]
    }
   ],
   "source": [
    "import tkinter as tk\n",
    "from tkinter import ttk\n",
    "win = tk.Tk()\n",
    "win.title('Heat Disease Prediction')\n",
    "win.geometry('650x320')\n",
    "\n",
    "#Column 1 \n",
    "age=ttk.Label(win,text=\"age\")\n",
    "age.grid(row=0,column=0,sticky=tk.W)\n",
    "age_var=tk.StringVar()\n",
    "age_entrybox=ttk.Entry(win,width=16,textvariable=age_var)\n",
    "age_entrybox.grid(row=0,column=1)\n",
    "#Column 2\n",
    "sex=ttk.Label(win,text=\"sex\")\n",
    "sex.grid(row=1,column=0,sticky=tk.W)\n",
    "sex_var=tk.StringVar()\n",
    "sex_entrybox=ttk.Entry(win,width=16,textvariable=sex_var)\n",
    "sex_entrybox.grid(row=1,column=1)\n",
    "#Column 3\n",
    "cp=ttk.Label(win,text=\"cp\")\n",
    "cp.grid(row=2,column=0,sticky=tk.W)\n",
    "cp_var=tk.StringVar()\n",
    "cp_entrybox=ttk.Entry(win,width=16,textvariable=cp_var)\n",
    "cp_entrybox.grid(row=2,column=1)\n",
    "#Column 4\n",
    "trestbps=ttk.Label(win,text=\"trestbps\")\n",
    "trestbps.grid(row=3,column=0,sticky=tk.W)\n",
    "trestbps_var=tk.StringVar()\n",
    "trestbps_entrybox=ttk.Entry(win,width=16,textvariable=trestbps_var)\n",
    "trestbps_entrybox.grid(row=3,column=1)\n",
    "#Column 5\n",
    "chol=ttk.Label(win,text=\"chol\")\n",
    "chol.grid(row=4,column=0,sticky=tk.W)\n",
    "chol_var=tk.StringVar()\n",
    "chol_entrybox=ttk.Entry(win,width=16,textvariable=chol_var)\n",
    "chol_entrybox.grid(row=4,column=1)\n",
    "#Column 6\n",
    "fbs=ttk.Label(win,text=\"fbs\")\n",
    "fbs.grid(row=5,column=0,sticky=tk.W)\n",
    "fbs_var=tk.StringVar()\n",
    "fbs_entrybox=ttk.Entry(win,width=16,textvariable=fbs_var)\n",
    "fbs_entrybox.grid(row=5,column=1)\n",
    "#Column 7\n",
    "restecg=ttk.Label(win,text=\"restecg\")\n",
    "restecg.grid(row=6,column=0,sticky=tk.W)\n",
    "restecg_var=tk.StringVar()\n",
    "restecg_entrybox=ttk.Entry(win,width=16,textvariable=restecg_var)\n",
    "restecg_entrybox.grid(row=6,column=1)\n",
    "#Column 8\n",
    "thalach=ttk.Label(win,text=\"talach\")\n",
    "thalach.grid(row=7,column=0,sticky=tk.W)\n",
    "thalach_var=tk.StringVar()\n",
    "thalach_entrybox=ttk.Entry(win,width=16,textvariable=thalach_var)\n",
    "thalach_entrybox.grid(row=7,column=1)\n",
    "#Column 9\n",
    "exang=ttk.Label(win,text=\"exang\")\n",
    "exang.grid(row=8,column=0,sticky=tk.W)\n",
    "exang_var=tk.StringVar()\n",
    "exang_entrybox=ttk.Entry(win,width=16,textvariable=exang_var)\n",
    "exang_entrybox.grid(row=8,column=1)\n",
    "#Column 10\n",
    "oldpeak=ttk.Label(win,text=\"oldpeak\")\n",
    "oldpeak.grid(row=9,column=0,sticky=tk.W)\n",
    "oldpeak_var=tk.StringVar()\n",
    "oldpeak_entrybox=ttk.Entry(win,width=16,textvariable=oldpeak_var)\n",
    "oldpeak_entrybox.grid(row=9,column=1)\n",
    "#Column 11\n",
    "slope=ttk.Label(win,text=\"slope\")\n",
    "slope.grid(row=10,column=0,sticky=tk.W)\n",
    "slope_var=tk.StringVar()\n",
    "slope_entrybox=ttk.Entry(win,width=16,textvariable=slope_var)\n",
    "slope_entrybox.grid(row=10,column=1)\n",
    "#Column 12\n",
    "ca=ttk.Label(win,text=\"ca\")\n",
    "ca.grid(row=11,column=0,sticky=tk.W)\n",
    "ca_var=tk.StringVar()\n",
    "ca_entrybox=ttk.Entry(win,width=16,textvariable=ca_var)\n",
    "ca_entrybox.grid(row=11,column=1)\n",
    "#Column 13\n",
    "thal=ttk.Label(win,text=\"thal\")\n",
    "thal.grid(row=12,column=0,sticky=tk.W)\n",
    "thal_var=tk.StringVar()\n",
    "thal_entrybox=ttk.Entry(win,width=16,textvariable=thal_var)\n",
    "thal_entrybox.grid(row=12,column=1)\n",
    "\n",
    "PRED = DT=ttk.Label(win,text=\"Prediction\")\n",
    "DT.grid(row=0,column=5,sticky=tk.W)\n",
    "\n",
    "ACC = ttk.Label(win,text=\"Accuracy\")\n",
    "ACC.grid(row=0,column=9,sticky=tk.W)\n",
    "\n",
    "DT=ttk.Label(win,text=\"Decision Tree\")\n",
    "DT.grid(row=1,column=4,sticky=tk.W)\n",
    "DT_var1=tk.StringVar()\n",
    "DT_var2=tk.StringVar()\n",
    "DT_out=ttk.Entry(win,width=12,textvariable=DT_var1)\n",
    "DT_out.grid(row=1,column=5)\n",
    "DT_acc=ttk.Entry(win,width=12,textvariable=DT_var2)\n",
    "DT_acc.grid(row=1,column=9)\n",
    "\n",
    "\n",
    "LRG=ttk.Label(win,text=\"Logistic Regression\")\n",
    "LRG.grid(row=2,column=4,sticky=tk.W)\n",
    "LRG_var1=tk.StringVar()\n",
    "LRG_var2=tk.StringVar()\n",
    "LRG_out=ttk.Entry(win,width=12,textvariable=LRG_var1)\n",
    "LRG_out.grid(row=2,column=5)\n",
    "LRG_acc=ttk.Entry(win,width=12,textvariable=LRG_var2)\n",
    "LRG_acc.grid(row=2,column=9)\n",
    "\n",
    "SVm=ttk.Label(win,text=\"LSVM\")\n",
    "SVm.grid(row=3,column=4,sticky=tk.W)\n",
    "SVm_var1=tk.StringVar()\n",
    "SVm_var2=tk.StringVar()\n",
    "SVm_out=ttk.Entry(win,width=12,textvariable=SVm_var1)\n",
    "SVm_out.grid(row=3,column=5)\n",
    "SVm_acc=ttk.Entry(win,width=12,textvariable=SVm_var2)\n",
    "SVm_acc.grid(row=3,column=9)\n",
    "\n",
    "CHAID=ttk.Label(win,text=\"CHAID\")\n",
    "CHAID.grid(row=4,column=4,sticky=tk.W)\n",
    "CHAID_var1=tk.StringVar()\n",
    "CHAID_var2=tk.StringVar()\n",
    "CHAID_out=ttk.Entry(win,width=12,textvariable=CHAID_var1)\n",
    "CHAID_out.grid(row=4,column=5)\n",
    "CHAID_acc=ttk.Entry(win,width=12,textvariable=CHAID_var2)\n",
    "CHAID_acc.grid(row=4,column=9)\n",
    "\n",
    "ADA=ttk.Label(win,text=\"Ada Boost\")\n",
    "ADA.grid(row=5,column=4,sticky=tk.W)\n",
    "ADA_var1=tk.StringVar()\n",
    "ADA_var2=tk.StringVar()\n",
    "ADA_out=ttk.Entry(win,width=12,textvariable=ADA_var1)\n",
    "ADA_out.grid(row=5,column=5)\n",
    "ADA_acc=ttk.Entry(win,width=12,textvariable=ADA_var2)\n",
    "ADA_acc.grid(row=5,column=9)\n",
    "\n",
    "GB=ttk.Label(win,text=\"Gradient Boost\")\n",
    "GB.grid(row=6,column=4,sticky=tk.W)\n",
    "GB_var1=tk.StringVar()\n",
    "GB_var2=tk.StringVar()\n",
    "GB_out=ttk.Entry(win,width=12,textvariable=GB_var1)\n",
    "GB_out.grid(row=6,column=5)\n",
    "GB_acc=ttk.Entry(win,width=12,textvariable=GB_var2)\n",
    "GB_acc.grid(row=6,column=9)\n",
    "\n",
    "XG=ttk.Label(win,text=\"XG Boost\")\n",
    "XG.grid(row=7,column=4,sticky=tk.W)\n",
    "XG_var1=tk.StringVar()\n",
    "XG_var2=tk.StringVar()\n",
    "XG_out=ttk.Entry(win,width=12,textvariable=XG_var1)\n",
    "XG_out.grid(row=7,column=5)\n",
    "XG_acc=ttk.Entry(win,width=12,textvariable=XG_var2)\n",
    "XG_acc.grid(row=7,column=9)\n",
    "\n",
    "result = \"\"\n",
    "enter_btn = ttk.Button(win, text=\"Enter\",command=Read)\n",
    "enter_btn.grid(row=30 ,column=1 )\n",
    "Predict_entrybox=ttk.Entry(win,width=24)\n",
    "Predict_entrybox.grid(row=30,column=6)\n",
    "Predict_entrybox.insert(1,str(result))\n",
    "Predict_label=ttk.Label(win,text=\"Prediction\")\n",
    "Predict_label.grid(row=30,column=5)\n",
    "win.mainloop()\n",
    "\n",
    "def Read():\n",
    "    AGE=age_var.get()\n",
    "    #DF.loc[0,'age']=AGE\n",
    "                      \n",
    "    SEX=sex_var.get()\n",
    "    #DF.loc[0,'sex']=sex\n",
    "                      \n",
    "    CP=cp_var.get()\n",
    "    #DF.loc[0,'cp']=CP\n",
    "                      \n",
    "    TRESTBPS=trestbps_var.get()\n",
    "    #DF.loc[0,'trestbps']=TRESTBPS\n",
    "                      \n",
    "    CHOL=chol_var.get()\n",
    "    #DF.loc[0,'chol']=CHOL\n",
    "                      \n",
    "    FBS=fbs_var.get()\n",
    "    #DF.loc[0,'fbs']=FBS\n",
    "                      \n",
    "    RESTECG=restecg_var.get()\n",
    "    #DF.loc[0,'restecg']=RESTECG\n",
    "                      \n",
    "    THALACH=thalach_var.get()\n",
    "    #DF.loc[0,'thalach']=THALACH\n",
    "                      \n",
    "    EXANG=exang_var.get()\n",
    "    #DF.loc[0,'exang']=EXANG\n",
    "    \n",
    "    OLDPEAK=oldpeak_var.get()\n",
    "    #DF.loc[0,'oldpeak']=OLDPEAK\n",
    "                      \n",
    "    SLOPE=slope_var.get()\n",
    "    #DF.loc[0,'slope']=SLOPE\n",
    "                      \n",
    "    CA=ca_var.get()\n",
    "    #DF.loc[0,'ca']=CA\n",
    "                      \n",
    "    THAL=thal_var.get()\n",
    "    #DF.loc[0,'thal']=THAL\n",
    "    print(\"INPUT:\", AGE, SEX, CP, TRESTBPS, CHOL, FBS, RESTECG, THALACH, EXANG, OLDPEAK, SLOPE, CA, THAL)\n",
    "    \n",
    "    test_list = [AGE, SEX, CP, TRESTBPS, CHOL, FBS, RESTECG, THALACH, EXANG, OLDPEAK, SLOPE, CA, THAL]\n",
    "    test_instance = np.array(test_list, ndmin=2) \n",
    "    test_instance2 = np.array(test_list, dtype = 'f') \n",
    "    test_instance3 = np.array(test_list, dtype = 'f', ndmin = 2)\n",
    "    \n",
    "   \n",
    "    a = str(DTree.predict(test_instance)[0])\n",
    "    b = str(LR.predict(test_instance3)[0])\n",
    "    result = b\n",
    "    c = str(SVM.predict(test_instance)[0])\n",
    "    d = str(chef.predict(model2, param = test_instance2))\n",
    "    e = str(ada.predict(test_instance)[0])\n",
    "    f = str(grad.predict(test_instance)[0])\n",
    "    g = str(xg.predict(test_instance3)[0])\n",
    "    \n",
    "    DT_out.insert(1,a)\n",
    "    LRG_out.insert(1,b)\n",
    "    SVm_out.insert(1,c)\n",
    "    CHAID_out.insert(1,d)\n",
    "    ADA_out.insert(1,e)\n",
    "    GB_out.insert(1,f)\n",
    "    XG_out.insert(1,g)\n",
    "    \n",
    "    DT_acc.insert(1, str(round(acc_dt,2)*100.0))\n",
    "    LRG_acc.insert(1, str(round(acc_lr,2)*100.0))\n",
    "    SVm_acc.insert(1, str(round(acc_svm,2)*100.0))\n",
    "    CHAID_acc.insert(1, str(round(acc_chaid,2)*100.0))\n",
    "    ADA_acc.insert(1, str(round(acc_ada,2)*100.0))\n",
    "    GB_acc.insert(1, str(round(acc_gb,2)*100.0))\n",
    "    XG_acc.insert(1, str(round(acc_xg,2)*100.0))\n",
    "    \n",
    "    if result == '1':\n",
    "        Predict_entrybox.insert(1,\"Risk\")\n",
    "    elif result == '0':\n",
    "        Predict_entrybox.insert(1,\"No Risk\")\n",
    "\n",
    "\n"
   ]
  },
  {
   "cell_type": "code",
   "execution_count": null,
   "id": "11582a4a",
   "metadata": {},
   "outputs": [],
   "source": []
  },
  {
   "cell_type": "code",
   "execution_count": null,
   "id": "d437df38",
   "metadata": {},
   "outputs": [],
   "source": []
  }
 ],
 "metadata": {
  "kernelspec": {
   "display_name": "Python 3 (ipykernel)",
   "language": "python",
   "name": "python3"
  },
  "language_info": {
   "codemirror_mode": {
    "name": "ipython",
    "version": 3
   },
   "file_extension": ".py",
   "mimetype": "text/x-python",
   "name": "python",
   "nbconvert_exporter": "python",
   "pygments_lexer": "ipython3",
   "version": "3.8.8"
  },
  "papermill": {
   "default_parameters": {},
   "duration": 33.196598,
   "end_time": "2021-10-29T15:16:34.185224",
   "environment_variables": {},
   "exception": null,
   "input_path": "__notebook__.ipynb",
   "output_path": "__notebook__.ipynb",
   "parameters": {},
   "start_time": "2021-10-29T15:16:00.988626",
   "version": "2.3.3"
  }
 },
 "nbformat": 4,
 "nbformat_minor": 5
}
